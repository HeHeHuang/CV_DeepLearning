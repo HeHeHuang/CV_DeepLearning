{
  "nbformat": 4,
  "nbformat_minor": 0,
  "metadata": {
    "colab": {
      "name": "Python_Algorithm.ipynb",
      "provenance": [],
      "collapsed_sections": [],
      "authorship_tag": "ABX9TyPJRKq71TWhkPdTdioo4J2j",
      "include_colab_link": true
    },
    "kernelspec": {
      "name": "python3",
      "display_name": "Python 3"
    },
    "language_info": {
      "name": "python"
    }
  },
  "cells": [
    {
      "cell_type": "markdown",
      "metadata": {
        "id": "view-in-github",
        "colab_type": "text"
      },
      "source": [
        "<a href=\"https://colab.research.google.com/github/HeHeHuang/BigData/blob/main/Python_Algorithm.ipynb\" target=\"_parent\"><img src=\"https://colab.research.google.com/assets/colab-badge.svg\" alt=\"Open In Colab\"/></a>"
      ]
    },
    {
      "cell_type": "markdown",
      "source": [
        "## list\n",
        "\n"
      ],
      "metadata": {
        "id": "LrGa19PSAr9n"
      }
    },
    {
      "cell_type": "code",
      "execution_count": null,
      "metadata": {
        "id": "c8qstEe4AROq",
        "colab": {
          "base_uri": "https://localhost:8080/"
        },
        "outputId": "6496bc1e-ab3c-4fd0-8ca9-20156ce98dc3"
      },
      "outputs": [
        {
          "output_type": "execute_result",
          "data": {
            "text/plain": [
              "[1, 2, 3, 4, 5]"
            ]
          },
          "metadata": {},
          "execution_count": 1
        }
      ],
      "source": [
        "[1,2,3,4,5]"
      ]
    },
    {
      "cell_type": "markdown",
      "source": [
        "#### 列表解析式"
      ],
      "metadata": {
        "id": "iEZ7FnEXBivW"
      }
    },
    {
      "cell_type": "code",
      "source": [
        "list = [x for x in range(7)]\n",
        "list "
      ],
      "metadata": {
        "colab": {
          "base_uri": "https://localhost:8080/"
        },
        "id": "skUQ8Da1Bssr",
        "outputId": "c2feb86a-eb35-4633-d8b6-b60de443d04c"
      },
      "execution_count": null,
      "outputs": [
        {
          "output_type": "execute_result",
          "data": {
            "text/plain": [
              "[0, 1, 2, 3, 4, 5, 6]"
            ]
          },
          "metadata": {},
          "execution_count": 3
        }
      ]
    },
    {
      "cell_type": "markdown",
      "source": [
        "## tuple"
      ],
      "metadata": {
        "id": "uwVF8MPeArWy"
      }
    },
    {
      "cell_type": "markdown",
      "source": [
        "## dict\n",
        "\n"
      ],
      "metadata": {
        "id": "Qwa-MH8CA4ME"
      }
    },
    {
      "cell_type": "markdown",
      "source": [
        "## set"
      ],
      "metadata": {
        "id": "sUv6rb50A6b5"
      }
    },
    {
      "cell_type": "markdown",
      "source": [
        "## pointer"
      ],
      "metadata": {
        "id": "p9WLTozcf2A7"
      }
    },
    {
      "cell_type": "markdown",
      "source": [
        "## linked list\n",
        "> list have index, list have contious memory space\n",
        "> linked list dont have index, LL node is serpate in different memory space, have head and tail \n"
      ],
      "metadata": {
        "id": "K0wfyvIHdHP8"
      }
    },
    {
      "cell_type": "code",
      "source": [
        "class LinkedList:\n",
        "  def __init__(self,value):\n",
        "    #create new nod\n",
        "    new_node = Node(value)\n",
        "    self.head = new_node\n",
        "    self.tail = new_node\n",
        "    self.length =1 \n",
        "    # loop the item by while loop \n",
        "  def print_list(self):\n",
        "    temp = self.head\n",
        "    while temp is not None:\n",
        "      print(temp.value)\n",
        "      temp =temp.next \n",
        "  #1. add last item \n",
        "  #2. tail point to new node\n",
        "  def append(self,value):\n",
        "    #create new node\n",
        "    #add Node to end\n",
        "    new_node = Node(value)\n",
        "    #if the LL item is empty\n",
        "    if self.head is None:\n",
        "      self.head = new_node\n",
        "      self.tail = new_node\n",
        "    else:\n",
        "       self.tail.next = new_node\n",
        "       self.tail = new_node \n",
        "    self.length +=1 \n",
        "    return True \n",
        "  # set the tail to last two item, remove last item\n",
        "  # to find out the last two node, the point need to loop node to find out\n",
        "  # how we do? you new temp and pre value, use while statement to che LL.node.next is Nono,if None,\n",
        "  # give the last item to pre value, and set the tail as pre value and set the pre node.next = none\n",
        "  # save the last node in temp and return the temp node as pop result \n",
        "  def pop(self): \n",
        "    # LL with None\n",
        "    if self.length == 0:\n",
        "      return None\n",
        "    # LL with one node\n",
        "    # LL with multiple node\n",
        "    temp = self.head\n",
        "    pre = self.head\n",
        "    while temp.next is not None: #While(temp.next)\n",
        "      pre = temp\n",
        "      temp = temp.next\n",
        "    self.tail = pre\n",
        "    self.tail.next = None\n",
        "    self.length -=1\n",
        "    if self.length ==0:\n",
        "      self.head = None\n",
        "      self.tail = None\n",
        "    return temp\n",
        "      \n",
        "    #create new node\n",
        "    #add node to begining\n",
        "  def prepend(self,value):\n",
        "    #1. create new node\n",
        "    #2. add the next to the first node of LL \n",
        "    #3. head point to the new node\n",
        "    #4. if we have empty list \n",
        "    new_node = Node(value)\n",
        "    if self.length == 0:\n",
        "      self.head = new_node\n",
        "      self.tail = new_node\n",
        "    else:\n",
        "      new_node.next = self.head\n",
        "      self.head = new_node\n",
        "    self.length +=1\n",
        "    return True\n",
        "  \n",
        "  def pop_first(self):\n",
        "    if self.length == 0:\n",
        "      return None\n",
        "    temp = self.head\n",
        "    self.head = self.head.next\n",
        "    temp.next = None\n",
        "    self.length -=1 \n",
        "    if self.length == 0:\n",
        "      self.tail = None\n",
        "    return temp\n",
        "\n",
        "  def get(self,index):\n",
        "   # check the have vaild index\n",
        "    if index < 0 or index >= self.length:\n",
        "      return None\n",
        "    temp = self.head\n",
        "    for _ in range(index):\n",
        "      temp = temp.next\n",
        "    return temp\n",
        "\n",
        "  def set_value(self,index,value):\n",
        "    if index <0 or index >= self.length:\n",
        "      return None\n",
        "    temp = self.get(index)\n",
        "    if temp: # if temp is not None \n",
        "      temp.value =value\n",
        "      return True\n",
        "    return False\n",
        "    '''temp = self.head\n",
        "    for _ in range(index):\n",
        "      temp = temp.next\n",
        "    temp.value = value'''\n",
        "    return temp\n",
        "  def insert(self,index,value):\n",
        "    #create new node\n",
        "    #insert node\n",
        "    if index <0 or index >= self.length:\n",
        "      return None\n",
        "    if index == 0:\n",
        "      return self.prepend(value)\n",
        "    if index == self.length:\n",
        "      return self.append(value)\n",
        "    new_node = Node(value)\n",
        "    temp = self.get(index-1)\n",
        "    new_node.next = temp.next\n",
        "    temp.next = new_node\n",
        "    self.length += 1\n",
        "    return True\n",
        "  def remove(self,index):\n",
        "    if index <0 or index >= self.length:\n",
        "      return None\n",
        "    if index ==0:\n",
        "      return self.pop_first()\n",
        "    if index == self.length:\n",
        "      return self.pop()\n",
        "  ### more efficient\n",
        "    prev = self.get(index-1)\n",
        "    temp = prev.next\n",
        "\n",
        "    prev.next = temp.next \n",
        "    temp.next = None\n",
        "    self.length -=1\n",
        "    return temp\n",
        "  \n",
        "  def reverse(self):\n",
        "     # switch the head and tail, and change the point from end to begining\n",
        "     temp = self.head\n",
        "     self.head= self.tail\n",
        "     self.tail = temp\n",
        "     after = temp.next\n",
        "     before = None\n",
        "     # \n",
        "     for _ in range(self.length):\n",
        "       # after point to temp.next value \n",
        "       after = temp.next\n",
        "       # change the point from after to before\n",
        "       temp.next = before\n",
        "      # before point to temp \n",
        "       before = temp\n",
        "       #temp point to after \n",
        "       temp = after\n",
        "       # at the last step before, temp, after will be None\n",
        "       \n",
        "\n",
        "       \n"
      ],
      "metadata": {
        "id": "7jrcR289fusO"
      },
      "execution_count": 81,
      "outputs": []
    },
    {
      "cell_type": "code",
      "source": [
        "class Node:\n",
        "  #create new node\n",
        "  def __init__(self,value):\n",
        "     self.value = value \n",
        "     self.next = None\n",
        "      "
      ],
      "metadata": {
        "id": "ejgwirD0gqH9"
      },
      "execution_count": 87,
      "outputs": []
    },
    {
      "cell_type": "code",
      "source": [
        "myLL = LinkedList(4)\n",
        "myLL\n",
        "myLL.append(5)\n",
        "myLL.append(6)"
      ],
      "metadata": {
        "colab": {
          "base_uri": "https://localhost:8080/"
        },
        "id": "XBcT5Lu9h2MC",
        "outputId": "ab9dd74c-749c-4389-c754-1c7bdadc1d56"
      },
      "execution_count": 82,
      "outputs": [
        {
          "output_type": "execute_result",
          "data": {
            "text/plain": [
              "True"
            ]
          },
          "metadata": {},
          "execution_count": 82
        }
      ]
    },
    {
      "cell_type": "code",
      "source": [
        "myLL.reverse()\n",
        "myLL.print_list()"
      ],
      "metadata": {
        "colab": {
          "base_uri": "https://localhost:8080/"
        },
        "id": "2R1gaiaDLBaU",
        "outputId": "eaece83c-9bb6-4fdf-ba95-f27227d8ac9c"
      },
      "execution_count": 85,
      "outputs": [
        {
          "output_type": "stream",
          "name": "stdout",
          "text": [
            "6\n",
            "5\n",
            "4\n"
          ]
        }
      ]
    },
    {
      "cell_type": "code",
      "source": [
        "myLL.get(2).value"
      ],
      "metadata": {
        "colab": {
          "base_uri": "https://localhost:8080/"
        },
        "id": "TcqgD_hj5E5S",
        "outputId": "d2bec0ab-4895-4c74-82b1-523f6d168716"
      },
      "execution_count": 79,
      "outputs": [
        {
          "output_type": "execute_result",
          "data": {
            "text/plain": [
              "6"
            ]
          },
          "metadata": {},
          "execution_count": 79
        }
      ]
    },
    {
      "cell_type": "code",
      "source": [
        "myLL.length"
      ],
      "metadata": {
        "colab": {
          "base_uri": "https://localhost:8080/"
        },
        "id": "ehqSX9i0vISo",
        "outputId": "33849bd4-6313-4018-ee52-5285b5c679e4"
      },
      "execution_count": 60,
      "outputs": [
        {
          "output_type": "execute_result",
          "data": {
            "text/plain": [
              "3"
            ]
          },
          "metadata": {},
          "execution_count": 60
        }
      ]
    },
    {
      "cell_type": "code",
      "source": [
        "print(myLL.head.value)"
      ],
      "metadata": {
        "id": "8CpPAl_giExZ",
        "outputId": "b504063d-2b93-4b17-e884-f566cf64a6be",
        "colab": {
          "base_uri": "https://localhost:8080/"
        }
      },
      "execution_count": 61,
      "outputs": [
        {
          "output_type": "stream",
          "name": "stdout",
          "text": [
            "4\n"
          ]
        }
      ]
    },
    {
      "cell_type": "code",
      "source": [
        "myLL.append(5)"
      ],
      "metadata": {
        "colab": {
          "base_uri": "https://localhost:8080/"
        },
        "id": "8b6ifgR1m35j",
        "outputId": "bf29bc4f-bf3a-4848-cbf7-c6b5ab511bc4"
      },
      "execution_count": 63,
      "outputs": [
        {
          "output_type": "execute_result",
          "data": {
            "text/plain": [
              "True"
            ]
          },
          "metadata": {},
          "execution_count": 63
        }
      ]
    },
    {
      "cell_type": "code",
      "source": [
        "myLL.print_list()"
      ],
      "metadata": {
        "id": "2fCYTCGMiHdS",
        "colab": {
          "base_uri": "https://localhost:8080/"
        },
        "outputId": "c7719909-8bf2-4e32-c20e-d0be85229b31"
      },
      "execution_count": 73,
      "outputs": [
        {
          "output_type": "stream",
          "name": "stdout",
          "text": [
            "4\n",
            "5\n",
            "6\n"
          ]
        }
      ]
    },
    {
      "cell_type": "code",
      "source": [
        "myLL.pop()"
      ],
      "metadata": {
        "colab": {
          "base_uri": "https://localhost:8080/"
        },
        "id": "J4w4wT9xs2nB",
        "outputId": "4fd3d171-69e4-494d-a6c5-ac2e14faa0e1"
      },
      "execution_count": 65,
      "outputs": [
        {
          "output_type": "execute_result",
          "data": {
            "text/plain": [
              "<__main__.Node at 0x7f7051455e10>"
            ]
          },
          "metadata": {},
          "execution_count": 65
        }
      ]
    },
    {
      "cell_type": "code",
      "source": [
        "myLL.prepend(3)"
      ],
      "metadata": {
        "colab": {
          "base_uri": "https://localhost:8080/"
        },
        "id": "ZuJgfGqpzwG4",
        "outputId": "8c599cc6-09cd-4cfa-9b77-73420a5979bd"
      },
      "execution_count": 66,
      "outputs": [
        {
          "output_type": "execute_result",
          "data": {
            "text/plain": [
              "True"
            ]
          },
          "metadata": {},
          "execution_count": 66
        }
      ]
    },
    {
      "cell_type": "code",
      "source": [
        "myLL.pop_first().value"
      ],
      "metadata": {
        "colab": {
          "base_uri": "https://localhost:8080/"
        },
        "id": "_0vw8gnl3oBJ",
        "outputId": "c6c00f4f-230c-4dd0-f417-a225fa99ffef"
      },
      "execution_count": 75,
      "outputs": [
        {
          "output_type": "execute_result",
          "data": {
            "text/plain": [
              "5"
            ]
          },
          "metadata": {},
          "execution_count": 75
        }
      ]
    },
    {
      "cell_type": "markdown",
      "source": [
        "## Double linked list\n"
      ],
      "metadata": {
        "id": "ikVGrEfxeJAa"
      }
    },
    {
      "cell_type": "code",
      "source": [
        "# check the inherited from the Node \n",
        "class dNode(Node):\n",
        "  def __init__(self,value):\n",
        "    Node.__init__(self,value)\n",
        "    self.prev = None"
      ],
      "metadata": {
        "id": "TJi58tQxLfai"
      },
      "execution_count": 88,
      "outputs": []
    },
    {
      "cell_type": "code",
      "source": [
        "class Node:\n",
        "  def __init__(self, value):\n",
        "    self.value = value\n",
        "    self.next = None\n",
        "    self.prev = None\n",
        "'''\n",
        "{\"value\":7,\n",
        "\"next\":None,\n",
        "\"prev\":None}\n",
        "'''\n"
      ],
      "metadata": {
        "colab": {
          "base_uri": "https://localhost:8080/",
          "height": 35
        },
        "id": "8tSwRA2YMfNr",
        "outputId": "e35f3fed-1dc0-4afd-bdb6-b106c7bf9b1a"
      },
      "execution_count": 1,
      "outputs": [
        {
          "output_type": "execute_result",
          "data": {
            "text/plain": [
              "'\\n{\"value\":7,\\n\"next\":None,\\n\"prev\":None}\\n'"
            ],
            "application/vnd.google.colaboratory.intrinsic+json": {
              "type": "string"
            }
          },
          "metadata": {},
          "execution_count": 1
        }
      ]
    },
    {
      "cell_type": "code",
      "source": [
        "class DoublyLinkedList:\n",
        "  def __init__(self,value):\n",
        "    new_node = Node(value)\n",
        "    self.head = new_node\n",
        "    self.tail = new_node\n",
        "    self.length = 1 "
      ],
      "metadata": {
        "id": "5el4uqhoL9eC"
      },
      "execution_count": null,
      "outputs": []
    },
    {
      "cell_type": "markdown",
      "source": [
        "## Stack\n",
        "> you only can get the item you last push in the stack --LIFO\n",
        "> how use linked list to stack  \n",
        "> top & bottom \n",
        "> pop first in LL \n"
      ],
      "metadata": {
        "id": "cO5RSn2lePKp"
      }
    },
    {
      "cell_type": "markdown",
      "source": [
        "## Quenes\n",
        "> get in line: FiFO\n",
        "> add in one end and you remove on other end \n",
        "> first & last: how to use linked list to queue "
      ],
      "metadata": {
        "id": "zTQ9kvtyeeXL"
      }
    },
    {
      "cell_type": "markdown",
      "source": [
        "## Trees\n",
        ">real dictornary \n",
        ">full tree: every node either points to zero nodes or two nodes \n",
        "> prefect tree\n",
        ">complete: from right to left have node\n",
        ">parents-->childs(siblings)\n",
        "> parent only have one node"
      ],
      "metadata": {
        "id": "Yoq4321n5EHF"
      }
    },
    {
      "cell_type": "markdown",
      "source": [
        "## Hashtable \n",
        "> how dictory stord. --> dictornay--> hash fucntion--> get dictornay & address \n",
        "\n",
        "> hash function: one way &deterministic\n",
        "> address space \n"
      ],
      "metadata": {
        "id": "PqubIp9Hezyw"
      }
    },
    {
      "cell_type": "markdown",
      "source": [
        ""
      ],
      "metadata": {
        "id": "-6k3JASIezv2"
      }
    },
    {
      "cell_type": "markdown",
      "source": [
        "##Graph\n",
        ">Vertex\n",
        ">edge & connection\n",
        ">weighted edge \n",
        "> directional & bidirectional edge\n",
        "\n",
        "> linked list is a form of a graph with the limitation that they can only point to one other \n",
        " \n"
      ],
      "metadata": {
        "id": "MWhdvIvIeztE"
      }
    },
    {
      "cell_type": "markdown",
      "source": [
        ""
      ],
      "metadata": {
        "id": "5lqjOwiGezqN"
      }
    },
    {
      "cell_type": "markdown",
      "source": [
        ""
      ],
      "metadata": {
        "id": "7rSFqOxkeznT"
      }
    },
    {
      "cell_type": "markdown",
      "source": [
        ""
      ],
      "metadata": {
        "id": "-ALemGGZezkl"
      }
    },
    {
      "cell_type": "markdown",
      "source": [
        ""
      ],
      "metadata": {
        "id": "7H1pLlJ_ezhn"
      }
    },
    {
      "cell_type": "markdown",
      "source": [
        ""
      ],
      "metadata": {
        "id": "hLZL1I76ezew"
      }
    },
    {
      "cell_type": "markdown",
      "source": [
        ""
      ],
      "metadata": {
        "id": "2pvTx7HRezbr"
      }
    },
    {
      "cell_type": "markdown",
      "source": [
        ""
      ],
      "metadata": {
        "id": "_Mu8k88zezYy"
      }
    },
    {
      "cell_type": "markdown",
      "source": [
        ""
      ],
      "metadata": {
        "id": "haHwS7kMezV_"
      }
    },
    {
      "cell_type": "markdown",
      "source": [
        ""
      ],
      "metadata": {
        "id": "eHq0WgowezTB"
      }
    },
    {
      "cell_type": "markdown",
      "source": [
        ""
      ],
      "metadata": {
        "id": "u4uE7dkZezQE"
      }
    },
    {
      "cell_type": "markdown",
      "source": [
        ""
      ],
      "metadata": {
        "id": "cI0BWONLezNS"
      }
    },
    {
      "cell_type": "markdown",
      "source": [
        ""
      ],
      "metadata": {
        "id": "c9K6XLqRezIq"
      }
    },
    {
      "cell_type": "markdown",
      "source": [
        ""
      ],
      "metadata": {
        "id": "QMsJWBtoezF1"
      }
    },
    {
      "cell_type": "markdown",
      "source": [
        ""
      ],
      "metadata": {
        "id": "12IrHpt7ezDE"
      }
    },
    {
      "cell_type": "markdown",
      "source": [
        ""
      ],
      "metadata": {
        "id": "CASXW7kJeyzR"
      }
    },
    {
      "cell_type": "markdown",
      "source": [
        ""
      ],
      "metadata": {
        "id": "0hPxpyIMeyuq"
      }
    },
    {
      "cell_type": "markdown",
      "source": [
        ""
      ],
      "metadata": {
        "id": "WsBQA-z0eyry"
      }
    },
    {
      "cell_type": "markdown",
      "source": [
        ""
      ],
      "metadata": {
        "id": "J31nWdvmeypU"
      }
    },
    {
      "cell_type": "markdown",
      "source": [
        ""
      ],
      "metadata": {
        "id": "p7qNJ1UPeymt"
      }
    },
    {
      "cell_type": "markdown",
      "source": [
        ""
      ],
      "metadata": {
        "id": "HZZ3mWZNeyj_"
      }
    },
    {
      "cell_type": "markdown",
      "source": [
        ""
      ],
      "metadata": {
        "id": "_1eoP3b7eyhB"
      }
    },
    {
      "cell_type": "markdown",
      "source": [
        ""
      ],
      "metadata": {
        "id": "k_kWMnlOeyeG"
      }
    },
    {
      "cell_type": "markdown",
      "source": [
        ""
      ],
      "metadata": {
        "id": "fUbNNnVueyax"
      }
    },
    {
      "cell_type": "markdown",
      "source": [
        ""
      ],
      "metadata": {
        "id": "ibyTjC_LeyWv"
      }
    },
    {
      "cell_type": "markdown",
      "source": [
        ""
      ],
      "metadata": {
        "id": "pb0JxwEReyTr"
      }
    },
    {
      "cell_type": "markdown",
      "source": [
        ""
      ],
      "metadata": {
        "id": "OaA-T5d_eyP5"
      }
    },
    {
      "cell_type": "markdown",
      "source": [
        ""
      ],
      "metadata": {
        "id": "9Orw__sWeyLY"
      }
    },
    {
      "cell_type": "markdown",
      "source": [
        ""
      ],
      "metadata": {
        "id": "FdG7PXy7eyEC"
      }
    },
    {
      "cell_type": "markdown",
      "source": [
        ""
      ],
      "metadata": {
        "id": "rOP3Pjdeex6W"
      }
    },
    {
      "cell_type": "markdown",
      "source": [
        ""
      ],
      "metadata": {
        "id": "lpsh7u7Gexue"
      }
    },
    {
      "cell_type": "markdown",
      "source": [
        ""
      ],
      "metadata": {
        "id": "_xB5VrXqexR5"
      }
    }
  ]
}