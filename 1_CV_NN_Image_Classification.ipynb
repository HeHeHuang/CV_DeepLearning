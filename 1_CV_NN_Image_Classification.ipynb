{
  "cells": [
    {
      "cell_type": "markdown",
      "metadata": {
        "id": "view-in-github",
        "colab_type": "text"
      },
      "source": [
        "<a href=\"https://colab.research.google.com/github/HeHeHuang/BigData/blob/main/1_CV_NN_Image_Classification.ipynb\" target=\"_parent\"><img src=\"https://colab.research.google.com/assets/colab-badge.svg\" alt=\"Open In Colab\"/></a>"
      ]
    },
    {
      "cell_type": "code",
      "execution_count": null,
      "metadata": {
        "id": "Gzui0H7DrZGo"
      },
      "outputs": [],
      "source": [
        "import numpy as np\n",
        "import matplotlib.pyplot as plt\n",
        "plt.rcParams['figure.figsize'] = (7,7)\n",
        "\n",
        "import tensorflow as tf\n",
        "from tensorflow.keras.datasets import mnist\n",
        "from tensorflow.keras.models import Sequential\n",
        "from tensorflow.keras.layers import Dense, Dropout,Activation, BatchNormalization \n",
        "from tensorflow.keras import utils,regularizers"
      ]
    },
    {
      "cell_type": "markdown",
      "metadata": {
        "id": "ghT3H0z_rmps"
      },
      "source": [
        "## 1. DATA IMPORT"
      ]
    },
    {
      "cell_type": "code",
      "execution_count": null,
      "metadata": {
        "id": "cX-7cgwGsGQb"
      },
      "outputs": [],
      "source": [
        "nb_classes = 10\n",
        "(X_train, y_train),(X_test,y_test) = mnist.load_data()\n"
      ]
    },
    {
      "cell_type": "code",
      "execution_count": null,
      "metadata": {
        "colab": {
          "base_uri": "https://localhost:8080/"
        },
        "id": "-EcCEFAYttwS",
        "outputId": "75cecb48-cb57-4815-c752-b77d877b2cb9"
      },
      "outputs": [
        {
          "name": "stdout",
          "output_type": "stream",
          "text": [
            "Shape of features Training set (60000, 28, 28)\n",
            "Shape of label Training set (60000,)\n"
          ]
        }
      ],
      "source": [
        "print(\"Shape of features Training set\",X_train.shape)\n",
        "print(\"Shape of label Training set\",y_train.shape)"
      ]
    },
    {
      "cell_type": "code",
      "execution_count": null,
      "metadata": {
        "colab": {
          "base_uri": "https://localhost:8080/",
          "height": 444
        },
        "id": "lWkRElrBuYXj",
        "outputId": "62cb99ad-54ea-4e76-d658-d079ab2f1798"
      },
      "outputs": [
        {
          "data": {
            "image/png": "[encoded data removed]",
            "text/plain": [
              "<Figure size 504x504 with 9 Axes>"
            ]
          },
          "metadata": {},
          "output_type": "display_data"
        }
      ],
      "source": [
        "# visualization for the first image\n",
        "for i in range(9):\n",
        "  plt.subplot(3,3,i+1) # \n",
        "  plt.imshow(X_train[i],cmap = 'gray',interpolation= 'none')\n",
        "  plt.title(\"Num{}\".format(y_train[i]))"
      ]
    },
    {
      "cell_type": "markdown",
      "metadata": {
        "id": "SrueX9X3rmk1"
      },
      "source": [
        "## 2.Data Preparation\n",
        "* convert 28 X 28 Pixel to 784 vector\n",
        "* convert 0-255 to 0-1 (Normlization)\n"
      ]
    },
    {
      "cell_type": "markdown",
      "metadata": {
        "id": "VBQGJmePKW5t"
      },
      "source": [
        "### Prepare X features "
      ]
    },
    {
      "cell_type": "code",
      "execution_count": null,
      "metadata": {
        "colab": {
          "base_uri": "https://localhost:8080/"
        },
        "id": "yHcZzYTesGed",
        "outputId": "b986dd18-bb46-4496-a57d-f3d0e2329932"
      },
      "outputs": [
        {
          "data": {
            "text/plain": [
              "(60000, 28, 28)"
            ]
          },
          "execution_count": 5,
          "metadata": {},
          "output_type": "execute_result"
        }
      ],
      "source": [
        "X_train.shape"
      ]
    },
    {
      "cell_type": "code",
      "execution_count": null,
      "metadata": {
        "colab": {
          "base_uri": "https://localhost:8080/"
        },
        "id": "bOf5i57IIn-M",
        "outputId": "040cce4d-d7f2-4318-9161-f6299061321f"
      },
      "outputs": [
        {
          "data": {
            "text/plain": [
              "array([[  0,   0,   0,   0,   0,   0,   0,   0,   0,   0,   0,   0,   0,\n",
              "          0,   0,   0,   0,   0,   0,   0,   0,   0,   0,   0,   0,   0,\n",
              "          0,   0],\n",
              "       [  0,   0,   0,   0,   0,   0,   0,   0,   0,   0,   0,   0,   0,\n",
              "          0,   0,   0,   0,   0,   0,   0,   0,   0,   0,   0,   0,   0,\n",
              "          0,   0],\n",
              "       [  0,   0,   0,   0,   0,   0,   0,   0,   0,   0,   0,   0,   0,\n",
              "          0,   0,   0,   0,   0,   0,   0,   0,   0,   0,   0,   0,   0,\n",
              "          0,   0],\n",
              "       [  0,   0,   0,   0,   0,   0,   0,   0,   0,   0,   0,   0,   0,\n",
              "          0,   0,   0,   0,   0,   0,   0,   0,   0,   0,   0,   0,   0,\n",
              "          0,   0],\n",
              "       [  0,   0,   0,   0,   0,   0,   0,   0,   0,   0,   0,   0,   0,\n",
              "          0,   0,  51, 159, 253, 159,  50,   0,   0,   0,   0,   0,   0,\n",
              "          0,   0],\n",
              "       [  0,   0,   0,   0,   0,   0,   0,   0,   0,   0,   0,   0,   0,\n",
              "          0,  48, 238, 252, 252, 252, 237,   0,   0,   0,   0,   0,   0,\n",
              "          0,   0],\n",
              "       [  0,   0,   0,   0,   0,   0,   0,   0,   0,   0,   0,   0,   0,\n",
              "         54, 227, 253, 252, 239, 233, 252,  57,   6,   0,   0,   0,   0,\n",
              "          0,   0],\n",
              "       [  0,   0,   0,   0,   0,   0,   0,   0,   0,   0,   0,  10,  60,\n",
              "        224, 252, 253, 252, 202,  84, 252, 253, 122,   0,   0,   0,   0,\n",
              "          0,   0],\n",
              "       [  0,   0,   0,   0,   0,   0,   0,   0,   0,   0,   0, 163, 252,\n",
              "        252, 252, 253, 252, 252,  96, 189, 253, 167,   0,   0,   0,   0,\n",
              "          0,   0],\n",
              "       [  0,   0,   0,   0,   0,   0,   0,   0,   0,   0,  51, 238, 253,\n",
              "        253, 190, 114, 253, 228,  47,  79, 255, 168,   0,   0,   0,   0,\n",
              "          0,   0],\n",
              "       [  0,   0,   0,   0,   0,   0,   0,   0,   0,  48, 238, 252, 252,\n",
              "        179,  12,  75, 121,  21,   0,   0, 253, 243,  50,   0,   0,   0,\n",
              "          0,   0],\n",
              "       [  0,   0,   0,   0,   0,   0,   0,   0,  38, 165, 253, 233, 208,\n",
              "         84,   0,   0,   0,   0,   0,   0, 253, 252, 165,   0,   0,   0,\n",
              "          0,   0],\n",
              "       [  0,   0,   0,   0,   0,   0,   0,   7, 178, 252, 240,  71,  19,\n",
              "         28,   0,   0,   0,   0,   0,   0, 253, 252, 195,   0,   0,   0,\n",
              "          0,   0],\n",
              "       [  0,   0,   0,   0,   0,   0,   0,  57, 252, 252,  63,   0,   0,\n",
              "          0,   0,   0,   0,   0,   0,   0, 253, 252, 195,   0,   0,   0,\n",
              "          0,   0],\n",
              "       [  0,   0,   0,   0,   0,   0,   0, 198, 253, 190,   0,   0,   0,\n",
              "          0,   0,   0,   0,   0,   0,   0, 255, 253, 196,   0,   0,   0,\n",
              "          0,   0],\n",
              "       [  0,   0,   0,   0,   0,   0,  76, 246, 252, 112,   0,   0,   0,\n",
              "          0,   0,   0,   0,   0,   0,   0, 253, 252, 148,   0,   0,   0,\n",
              "          0,   0],\n",
              "       [  0,   0,   0,   0,   0,   0,  85, 252, 230,  25,   0,   0,   0,\n",
              "          0,   0,   0,   0,   0,   7, 135, 253, 186,  12,   0,   0,   0,\n",
              "          0,   0],\n",
              "       [  0,   0,   0,   0,   0,   0,  85, 252, 223,   0,   0,   0,   0,\n",
              "          0,   0,   0,   0,   7, 131, 252, 225,  71,   0,   0,   0,   0,\n",
              "          0,   0],\n",
              "       [  0,   0,   0,   0,   0,   0,  85, 252, 145,   0,   0,   0,   0,\n",
              "          0,   0,   0,  48, 165, 252, 173,   0,   0,   0,   0,   0,   0,\n",
              "          0,   0],\n",
              "       [  0,   0,   0,   0,   0,   0,  86, 253, 225,   0,   0,   0,   0,\n",
              "          0,   0, 114, 238, 253, 162,   0,   0,   0,   0,   0,   0,   0,\n",
              "          0,   0],\n",
              "       [  0,   0,   0,   0,   0,   0,  85, 252, 249, 146,  48,  29,  85,\n",
              "        178, 225, 253, 223, 167,  56,   0,   0,   0,   0,   0,   0,   0,\n",
              "          0,   0],\n",
              "       [  0,   0,   0,   0,   0,   0,  85, 252, 252, 252, 229, 215, 252,\n",
              "        252, 252, 196, 130,   0,   0,   0,   0,   0,   0,   0,   0,   0,\n",
              "          0,   0],\n",
              "       [  0,   0,   0,   0,   0,   0,  28, 199, 252, 252, 253, 252, 252,\n",
              "        233, 145,   0,   0,   0,   0,   0,   0,   0,   0,   0,   0,   0,\n",
              "          0,   0],\n",
              "       [  0,   0,   0,   0,   0,   0,   0,  25, 128, 252, 253, 252, 141,\n",
              "         37,   0,   0,   0,   0,   0,   0,   0,   0,   0,   0,   0,   0,\n",
              "          0,   0],\n",
              "       [  0,   0,   0,   0,   0,   0,   0,   0,   0,   0,   0,   0,   0,\n",
              "          0,   0,   0,   0,   0,   0,   0,   0,   0,   0,   0,   0,   0,\n",
              "          0,   0],\n",
              "       [  0,   0,   0,   0,   0,   0,   0,   0,   0,   0,   0,   0,   0,\n",
              "          0,   0,   0,   0,   0,   0,   0,   0,   0,   0,   0,   0,   0,\n",
              "          0,   0],\n",
              "       [  0,   0,   0,   0,   0,   0,   0,   0,   0,   0,   0,   0,   0,\n",
              "          0,   0,   0,   0,   0,   0,   0,   0,   0,   0,   0,   0,   0,\n",
              "          0,   0],\n",
              "       [  0,   0,   0,   0,   0,   0,   0,   0,   0,   0,   0,   0,   0,\n",
              "          0,   0,   0,   0,   0,   0,   0,   0,   0,   0,   0,   0,   0,\n",
              "          0,   0]], dtype=uint8)"
            ]
          },
          "execution_count": 6,
          "metadata": {},
          "output_type": "execute_result"
        }
      ],
      "source": [
        "X_train[1]"
      ]
    },
    {
      "cell_type": "code",
      "execution_count": null,
      "metadata": {
        "id": "fE7WmxFKsGhM"
      },
      "outputs": [],
      "source": [
        "X_train = X_train.reshape(60000,784)\n",
        "X_test = X_test.reshape(10000,784)\n",
        "\n",
        "#type convert\n",
        "X_train = X_train.astype('float32')\n",
        "y_train = y_train.astype('float32')\n",
        "\n",
        "#nomorlization \n",
        "X_train /=255\n",
        "y_train /= 255"
      ]
    },
    {
      "cell_type": "code",
      "execution_count": null,
      "metadata": {
        "colab": {
          "base_uri": "https://localhost:8080/"
        },
        "id": "c4lvn7BMJw_Z",
        "outputId": "e3896baa-c6b0-469b-ca4e-7acb6d76b872"
      },
      "outputs": [
        {
          "data": {
            "text/plain": [
              "array([0.        , 0.        , 0.        , 0.        , 0.        ,\n",
              "       0.        , 0.        , 0.        , 0.        , 0.        ,\n",
              "       0.        , 0.        , 0.        , 0.        , 0.        ,\n",
              "       0.        , 0.        , 0.        , 0.        , 0.        ,\n",
              "       0.        , 0.        , 0.        , 0.        , 0.        ,\n",
              "       0.        , 0.        , 0.        , 0.        , 0.        ,\n",
              "       0.        , 0.        , 0.        , 0.        , 0.        ,\n",
              "       0.        , 0.        , 0.        , 0.        , 0.        ,\n",
              "       0.        , 0.        , 0.        , 0.        , 0.        ,\n",
              "       0.        , 0.        , 0.        , 0.        , 0.        ,\n",
              "       0.        , 0.        , 0.        , 0.        , 0.        ,\n",
              "       0.        , 0.        , 0.        , 0.        , 0.        ,\n",
              "       0.        , 0.        , 0.        , 0.        , 0.        ,\n",
              "       0.        , 0.        , 0.        , 0.        , 0.        ,\n",
              "       0.        , 0.        , 0.        , 0.        , 0.        ,\n",
              "       0.        , 0.        , 0.        , 0.        , 0.        ,\n",
              "       0.        , 0.        , 0.        , 0.        , 0.        ,\n",
              "       0.        , 0.        , 0.        , 0.        , 0.        ,\n",
              "       0.        , 0.        , 0.        , 0.        , 0.        ,\n",
              "       0.        , 0.        , 0.        , 0.        , 0.        ,\n",
              "       0.        , 0.        , 0.        , 0.        , 0.        ,\n",
              "       0.        , 0.        , 0.        , 0.        , 0.        ,\n",
              "       0.        , 0.        , 0.        , 0.        , 0.        ,\n",
              "       0.        , 0.        , 0.        , 0.        , 0.        ,\n",
              "       0.        , 0.        , 0.        , 0.        , 0.        ,\n",
              "       0.        , 0.        , 0.2       , 0.62352943, 0.99215686,\n",
              "       0.62352943, 0.19607843, 0.        , 0.        , 0.        ,\n",
              "       0.        , 0.        , 0.        , 0.        , 0.        ,\n",
              "       0.        , 0.        , 0.        , 0.        , 0.        ,\n",
              "       0.        , 0.        , 0.        , 0.        , 0.        ,\n",
              "       0.        , 0.        , 0.        , 0.        , 0.1882353 ,\n",
              "       0.93333334, 0.9882353 , 0.9882353 , 0.9882353 , 0.92941177,\n",
              "       0.        , 0.        , 0.        , 0.        , 0.        ,\n",
              "       0.        , 0.        , 0.        , 0.        , 0.        ,\n",
              "       0.        , 0.        , 0.        , 0.        , 0.        ,\n",
              "       0.        , 0.        , 0.        , 0.        , 0.        ,\n",
              "       0.        , 0.21176471, 0.8901961 , 0.99215686, 0.9882353 ,\n",
              "       0.9372549 , 0.9137255 , 0.9882353 , 0.22352941, 0.02352941,\n",
              "       0.        , 0.        , 0.        , 0.        , 0.        ,\n",
              "       0.        , 0.        , 0.        , 0.        , 0.        ,\n",
              "       0.        , 0.        , 0.        , 0.        , 0.        ,\n",
              "       0.        , 0.        , 0.03921569, 0.23529412, 0.8784314 ,\n",
              "       0.9882353 , 0.99215686, 0.9882353 , 0.7921569 , 0.32941177,\n",
              "       0.9882353 , 0.99215686, 0.47843137, 0.        , 0.        ,\n",
              "       0.        , 0.        , 0.        , 0.        , 0.        ,\n",
              "       0.        , 0.        , 0.        , 0.        , 0.        ,\n",
              "       0.        , 0.        , 0.        , 0.        , 0.        ,\n",
              "       0.6392157 , 0.9882353 , 0.9882353 , 0.9882353 , 0.99215686,\n",
              "       0.9882353 , 0.9882353 , 0.3764706 , 0.7411765 , 0.99215686,\n",
              "       0.654902  , 0.        , 0.        , 0.        , 0.        ,\n",
              "       0.        , 0.        , 0.        , 0.        , 0.        ,\n",
              "       0.        , 0.        , 0.        , 0.        , 0.        ,\n",
              "       0.        , 0.        , 0.2       , 0.93333334, 0.99215686,\n",
              "       0.99215686, 0.74509805, 0.44705883, 0.99215686, 0.89411765,\n",
              "       0.18431373, 0.30980393, 1.        , 0.65882355, 0.        ,\n",
              "       0.        , 0.        , 0.        , 0.        , 0.        ,\n",
              "       0.        , 0.        , 0.        , 0.        , 0.        ,\n",
              "       0.        , 0.        , 0.        , 0.        , 0.1882353 ,\n",
              "       0.93333334, 0.9882353 , 0.9882353 , 0.7019608 , 0.04705882,\n",
              "       0.29411766, 0.4745098 , 0.08235294, 0.        , 0.        ,\n",
              "       0.99215686, 0.9529412 , 0.19607843, 0.        , 0.        ,\n",
              "       0.        , 0.        , 0.        , 0.        , 0.        ,\n",
              "       0.        , 0.        , 0.        , 0.        , 0.        ,\n",
              "       0.        , 0.14901961, 0.64705884, 0.99215686, 0.9137255 ,\n",
              "       0.8156863 , 0.32941177, 0.        , 0.        , 0.        ,\n",
              "       0.        , 0.        , 0.        , 0.99215686, 0.9882353 ,\n",
              "       0.64705884, 0.        , 0.        , 0.        , 0.        ,\n",
              "       0.        , 0.        , 0.        , 0.        , 0.        ,\n",
              "       0.        , 0.        , 0.        , 0.02745098, 0.69803923,\n",
              "       0.9882353 , 0.9411765 , 0.2784314 , 0.07450981, 0.10980392,\n",
              "       0.        , 0.        , 0.        , 0.        , 0.        ,\n",
              "       0.        , 0.99215686, 0.9882353 , 0.7647059 , 0.        ,\n",
              "       0.        , 0.        , 0.        , 0.        , 0.        ,\n",
              "       0.        , 0.        , 0.        , 0.        , 0.        ,\n",
              "       0.        , 0.22352941, 0.9882353 , 0.9882353 , 0.24705882,\n",
              "       0.        , 0.        , 0.        , 0.        , 0.        ,\n",
              "       0.        , 0.        , 0.        , 0.        , 0.99215686,\n",
              "       0.9882353 , 0.7647059 , 0.        , 0.        , 0.        ,\n",
              "       0.        , 0.        , 0.        , 0.        , 0.        ,\n",
              "       0.        , 0.        , 0.        , 0.        , 0.7764706 ,\n",
              "       0.99215686, 0.74509805, 0.        , 0.        , 0.        ,\n",
              "       0.        , 0.        , 0.        , 0.        , 0.        ,\n",
              "       0.        , 0.        , 1.        , 0.99215686, 0.76862746,\n",
              "       0.        , 0.        , 0.        , 0.        , 0.        ,\n",
              "       0.        , 0.        , 0.        , 0.        , 0.        ,\n",
              "       0.        , 0.29803923, 0.9647059 , 0.9882353 , 0.4392157 ,\n",
              "       0.        , 0.        , 0.        , 0.        , 0.        ,\n",
              "       0.        , 0.        , 0.        , 0.        , 0.        ,\n",
              "       0.99215686, 0.9882353 , 0.5803922 , 0.        , 0.        ,\n",
              "       0.        , 0.        , 0.        , 0.        , 0.        ,\n",
              "       0.        , 0.        , 0.        , 0.        , 0.33333334,\n",
              "       0.9882353 , 0.9019608 , 0.09803922, 0.        , 0.        ,\n",
              "       0.        , 0.        , 0.        , 0.        , 0.        ,\n",
              "       0.        , 0.02745098, 0.5294118 , 0.99215686, 0.7294118 ,\n",
              "       0.04705882, 0.        , 0.        , 0.        , 0.        ,\n",
              "       0.        , 0.        , 0.        , 0.        , 0.        ,\n",
              "       0.        , 0.        , 0.33333334, 0.9882353 , 0.8745098 ,\n",
              "       0.        , 0.        , 0.        , 0.        , 0.        ,\n",
              "       0.        , 0.        , 0.        , 0.02745098, 0.5137255 ,\n",
              "       0.9882353 , 0.88235295, 0.2784314 , 0.        , 0.        ,\n",
              "       0.        , 0.        , 0.        , 0.        , 0.        ,\n",
              "       0.        , 0.        , 0.        , 0.        , 0.        ,\n",
              "       0.33333334, 0.9882353 , 0.5686275 , 0.        , 0.        ,\n",
              "       0.        , 0.        , 0.        , 0.        , 0.        ,\n",
              "       0.1882353 , 0.64705884, 0.9882353 , 0.6784314 , 0.        ,\n",
              "       0.        , 0.        , 0.        , 0.        , 0.        ,\n",
              "       0.        , 0.        , 0.        , 0.        , 0.        ,\n",
              "       0.        , 0.        , 0.        , 0.3372549 , 0.99215686,\n",
              "       0.88235295, 0.        , 0.        , 0.        , 0.        ,\n",
              "       0.        , 0.        , 0.44705883, 0.93333334, 0.99215686,\n",
              "       0.63529414, 0.        , 0.        , 0.        , 0.        ,\n",
              "       0.        , 0.        , 0.        , 0.        , 0.        ,\n",
              "       0.        , 0.        , 0.        , 0.        , 0.        ,\n",
              "       0.        , 0.33333334, 0.9882353 , 0.9764706 , 0.57254905,\n",
              "       0.1882353 , 0.11372549, 0.33333334, 0.69803923, 0.88235295,\n",
              "       0.99215686, 0.8745098 , 0.654902  , 0.21960784, 0.        ,\n",
              "       0.        , 0.        , 0.        , 0.        , 0.        ,\n",
              "       0.        , 0.        , 0.        , 0.        , 0.        ,\n",
              "       0.        , 0.        , 0.        , 0.        , 0.33333334,\n",
              "       0.9882353 , 0.9882353 , 0.9882353 , 0.8980392 , 0.84313726,\n",
              "       0.9882353 , 0.9882353 , 0.9882353 , 0.76862746, 0.50980395,\n",
              "       0.        , 0.        , 0.        , 0.        , 0.        ,\n",
              "       0.        , 0.        , 0.        , 0.        , 0.        ,\n",
              "       0.        , 0.        , 0.        , 0.        , 0.        ,\n",
              "       0.        , 0.        , 0.10980392, 0.78039217, 0.9882353 ,\n",
              "       0.9882353 , 0.99215686, 0.9882353 , 0.9882353 , 0.9137255 ,\n",
              "       0.5686275 , 0.        , 0.        , 0.        , 0.        ,\n",
              "       0.        , 0.        , 0.        , 0.        , 0.        ,\n",
              "       0.        , 0.        , 0.        , 0.        , 0.        ,\n",
              "       0.        , 0.        , 0.        , 0.        , 0.        ,\n",
              "       0.        , 0.09803922, 0.5019608 , 0.9882353 , 0.99215686,\n",
              "       0.9882353 , 0.5529412 , 0.14509805, 0.        , 0.        ,\n",
              "       0.        , 0.        , 0.        , 0.        , 0.        ,\n",
              "       0.        , 0.        , 0.        , 0.        , 0.        ,\n",
              "       0.        , 0.        , 0.        , 0.        , 0.        ,\n",
              "       0.        , 0.        , 0.        , 0.        , 0.        ,\n",
              "       0.        , 0.        , 0.        , 0.        , 0.        ,\n",
              "       0.        , 0.        , 0.        , 0.        , 0.        ,\n",
              "       0.        , 0.        , 0.        , 0.        , 0.        ,\n",
              "       0.        , 0.        , 0.        , 0.        , 0.        ,\n",
              "       0.        , 0.        , 0.        , 0.        , 0.        ,\n",
              "       0.        , 0.        , 0.        , 0.        , 0.        ,\n",
              "       0.        , 0.        , 0.        , 0.        , 0.        ,\n",
              "       0.        , 0.        , 0.        , 0.        , 0.        ,\n",
              "       0.        , 0.        , 0.        , 0.        , 0.        ,\n",
              "       0.        , 0.        , 0.        , 0.        , 0.        ,\n",
              "       0.        , 0.        , 0.        , 0.        , 0.        ,\n",
              "       0.        , 0.        , 0.        , 0.        , 0.        ,\n",
              "       0.        , 0.        , 0.        , 0.        , 0.        ,\n",
              "       0.        , 0.        , 0.        , 0.        , 0.        ,\n",
              "       0.        , 0.        , 0.        , 0.        , 0.        ,\n",
              "       0.        , 0.        , 0.        , 0.        , 0.        ,\n",
              "       0.        , 0.        , 0.        , 0.        , 0.        ,\n",
              "       0.        , 0.        , 0.        , 0.        , 0.        ,\n",
              "       0.        , 0.        , 0.        , 0.        , 0.        ,\n",
              "       0.        , 0.        , 0.        , 0.        , 0.        ,\n",
              "       0.        , 0.        , 0.        , 0.        ], dtype=float32)"
            ]
          },
          "execution_count": 8,
          "metadata": {},
          "output_type": "execute_result"
        }
      ],
      "source": [
        "#reshape 2d array to 1d array: vector\n",
        "X_train[1]"
      ]
    },
    {
      "cell_type": "code",
      "execution_count": null,
      "metadata": {
        "colab": {
          "base_uri": "https://localhost:8080/"
        },
        "id": "pUxye_EjsGj-",
        "outputId": "883fcf62-c90b-4aa8-fe00-8e527aa5df03"
      },
      "outputs": [
        {
          "name": "stdout",
          "output_type": "stream",
          "text": [
            "[[2 2]\n",
            " [2 3]]\n",
            "[2 2 2 3]\n",
            "(2, 2)\n",
            "(4,)\n"
          ]
        }
      ],
      "source": [
        "x=[[2,2],\n",
        "   [2,3]]\n",
        "print(np.array(x))\n",
        "print(np.array(x).reshape(4))\n",
        "print(np.array(x).shape)\n",
        "print(np.array(x).reshape(4).shape)"
      ]
    },
    {
      "cell_type": "markdown",
      "metadata": {
        "id": "NxMPfOvxKgTR"
      },
      "source": [
        "### Prepare y label: one hot encoding"
      ]
    },
    {
      "cell_type": "code",
      "execution_count": null,
      "metadata": {
        "colab": {
          "base_uri": "https://localhost:8080/"
        },
        "id": "4VsS_macKknC",
        "outputId": "3b4db586-961f-4886-a4be-ac3ff6c7c4ab"
      },
      "outputs": [
        {
          "data": {
            "text/plain": [
              "array([[0., 0., 0., ..., 1., 0., 0.],\n",
              "       [0., 0., 1., ..., 0., 0., 0.],\n",
              "       [0., 1., 0., ..., 0., 0., 0.],\n",
              "       ...,\n",
              "       [0., 0., 0., ..., 0., 0., 0.],\n",
              "       [0., 0., 0., ..., 0., 0., 0.],\n",
              "       [0., 0., 0., ..., 0., 0., 0.]], dtype=float32)"
            ]
          },
          "execution_count": 10,
          "metadata": {},
          "output_type": "execute_result"
        }
      ],
      "source": [
        "y_train = utils.to_categorical(y_train,nb_classes)\n",
        "y_train\n",
        "y_test = utils.to_categorical(y_test,nb_classes)\n",
        "y_test"
      ]
    },
    {
      "cell_type": "markdown",
      "metadata": {
        "id": "fFaV074Brmhb"
      },
      "source": [
        "## 3. Modelling"
      ]
    },
    {
      "cell_type": "code",
      "execution_count": null,
      "metadata": {
        "colab": {
          "base_uri": "https://localhost:8080/"
        },
        "id": "4ULSTkjiRL8C",
        "outputId": "5da0c1fe-4f20-4b76-bc1c-4b4541d755b8"
      },
      "outputs": [
        {
          "name": "stdout",
          "output_type": "stream",
          "text": [
            "(60000, 784)\n",
            "(60000, 10)\n",
            "(10000, 784)\n",
            "(10000, 10)\n"
          ]
        }
      ],
      "source": [
        "print(X_train.shape)\n",
        "print(y_train.shape)\n",
        "print(X_test.shape)\n",
        "print(y_test.shape)"
      ]
    },
    {
      "cell_type": "code",
      "execution_count": null,
      "metadata": {
        "id": "7080mMOTMDnK"
      },
      "outputs": [],
      "source": [
        "model = Sequential()\n",
        "model.add(Dense(512, input_shape=(784,)))\n",
        "model.add(Activation('relu'))\n",
        "model.add(Dropout(0.2))\n",
        "model.add(Dense(512,kernel_regularizer = regularizers.l2(0.001)))\n",
        "model.add(BatchNormalization())\n",
        "model.add(Activation('relu'))\n",
        "model.add(Dropout(0.2))\n",
        "model.add(Dense(10))\n",
        "model.add(Activation('softmax'))"
      ]
    },
    {
      "cell_type": "code",
      "execution_count": null,
      "metadata": {
        "colab": {
          "base_uri": "https://localhost:8080/"
        },
        "id": "gYas-l3GOKMf",
        "outputId": "612065d4-9076-4244-ab32-d4d298947502"
      },
      "outputs": [
        {
          "name": "stdout",
          "output_type": "stream",
          "text": [
            "Model: \"sequential_1\"\n",
            "_________________________________________________________________\n",
            " Layer (type)                Output Shape              Param #   \n",
            "=================================================================\n",
            " dense_3 (Dense)             (None, 512)               401920    \n",
            "                                                                 \n",
            " activation_3 (Activation)   (None, 512)               0         \n",
            "                                                                 \n",
            " dropout_2 (Dropout)         (None, 512)               0         \n",
            "                                                                 \n",
            " dense_4 (Dense)             (None, 512)               262656    \n",
            "                                                                 \n",
            " batch_normalization_1 (Batc  (None, 512)              2048      \n",
            " hNormalization)                                                 \n",
            "                                                                 \n",
            " activation_4 (Activation)   (None, 512)               0         \n",
            "                                                                 \n",
            " dropout_3 (Dropout)         (None, 512)               0         \n",
            "                                                                 \n",
            " dense_5 (Dense)             (None, 10)                5130      \n",
            "                                                                 \n",
            " activation_5 (Activation)   (None, 10)                0         \n",
            "                                                                 \n",
            "=================================================================\n",
            "Total params: 671,754\n",
            "Trainable params: 670,730\n",
            "Non-trainable params: 1,024\n",
            "_________________________________________________________________\n"
          ]
        }
      ],
      "source": [
        "model.summary()"
      ]
    },
    {
      "cell_type": "code",
      "execution_count": null,
      "metadata": {
        "id": "CaeLWiXdP8e4"
      },
      "outputs": [],
      "source": [
        "model.compile( loss='categorical_crossentropy', optimizer='adam', metrics = ['accuracy'])"
      ]
    },
    {
      "cell_type": "markdown",
      "metadata": {
        "id": "uIh01wm4rma1"
      },
      "source": [
        "## 4. Training Model"
      ]
    },
    {
      "cell_type": "code",
      "execution_count": null,
      "metadata": {
        "colab": {
          "base_uri": "https://localhost:8080/"
        },
        "id": "q2kSFqfNORX4",
        "outputId": "0ff65120-9919-460b-bc81-9cf93671c283"
      },
      "outputs": [
        {
          "name": "stdout",
          "output_type": "stream",
          "text": [
            "Epoch 1/100\n",
            "469/469 [==============================] - 9s 19ms/step - loss: 4.3031e-16 - accuracy: 1.0000 - val_loss: 27.1547 - val_accuracy: 0.0980\n",
            "Epoch 2/100\n",
            "469/469 [==============================] - 9s 19ms/step - loss: 4.1095e-16 - accuracy: 1.0000 - val_loss: 27.1919 - val_accuracy: 0.0980\n",
            "Epoch 3/100\n",
            "469/469 [==============================] - 9s 20ms/step - loss: 4.6231e-16 - accuracy: 1.0000 - val_loss: 27.2239 - val_accuracy: 0.0980\n",
            "Epoch 4/100\n",
            "469/469 [==============================] - 9s 19ms/step - loss: 4.2275e-16 - accuracy: 1.0000 - val_loss: 27.1102 - val_accuracy: 0.0980\n",
            "Epoch 5/100\n",
            "469/469 [==============================] - 9s 20ms/step - loss: 4.5470e-16 - accuracy: 1.0000 - val_loss: 27.1253 - val_accuracy: 0.0980\n",
            "Epoch 6/100\n",
            "469/469 [==============================] - 9s 19ms/step - loss: 4.6392e-16 - accuracy: 1.0000 - val_loss: 27.2327 - val_accuracy: 0.0980\n",
            "Epoch 7/100\n",
            "469/469 [==============================] - 9s 18ms/step - loss: 4.1481e-16 - accuracy: 1.0000 - val_loss: 27.4322 - val_accuracy: 0.0980\n",
            "Epoch 8/100\n",
            "469/469 [==============================] - 9s 18ms/step - loss: 4.1291e-16 - accuracy: 1.0000 - val_loss: 27.2868 - val_accuracy: 0.0980\n",
            "Epoch 9/100\n",
            "469/469 [==============================] - 9s 19ms/step - loss: 4.1902e-16 - accuracy: 1.0000 - val_loss: 27.3628 - val_accuracy: 0.0980\n",
            "Epoch 10/100\n",
            "469/469 [==============================] - 9s 18ms/step - loss: 4.0859e-16 - accuracy: 1.0000 - val_loss: 27.1341 - val_accuracy: 0.0980\n",
            "Epoch 11/100\n",
            "469/469 [==============================] - 9s 18ms/step - loss: 4.3173e-16 - accuracy: 1.0000 - val_loss: 27.1991 - val_accuracy: 0.0980\n",
            "Epoch 12/100\n",
            "469/469 [==============================] - 9s 19ms/step - loss: 5.4234e-16 - accuracy: 1.0000 - val_loss: 27.0924 - val_accuracy: 0.0980\n",
            "Epoch 13/100\n",
            "469/469 [==============================] - 9s 18ms/step - loss: 5.6363e-16 - accuracy: 1.0000 - val_loss: 27.2287 - val_accuracy: 0.0980\n",
            "Epoch 14/100\n",
            "469/469 [==============================] - 9s 19ms/step - loss: 5.1743e-16 - accuracy: 1.0000 - val_loss: 27.2117 - val_accuracy: 0.0980\n",
            "Epoch 15/100\n",
            "469/469 [==============================] - 9s 19ms/step - loss: 4.3858e-16 - accuracy: 1.0000 - val_loss: 27.7028 - val_accuracy: 0.0980\n",
            "Epoch 16/100\n",
            "469/469 [==============================] - 11s 23ms/step - loss: 5.8701e-16 - accuracy: 1.0000 - val_loss: 27.4428 - val_accuracy: 0.0980\n",
            "Epoch 17/100\n",
            "469/469 [==============================] - 10s 21ms/step - loss: 5.2972e-16 - accuracy: 1.0000 - val_loss: 27.3347 - val_accuracy: 0.0980\n",
            "Epoch 18/100\n",
            "469/469 [==============================] - 9s 20ms/step - loss: 5.4966e-16 - accuracy: 1.0000 - val_loss: 27.3538 - val_accuracy: 0.0980\n",
            "Epoch 19/100\n",
            "469/469 [==============================] - 9s 20ms/step - loss: 5.1319e-16 - accuracy: 1.0000 - val_loss: 27.2611 - val_accuracy: 0.0980\n",
            "Epoch 20/100\n",
            "469/469 [==============================] - 9s 19ms/step - loss: 5.8519e-16 - accuracy: 1.0000 - val_loss: 27.2808 - val_accuracy: 0.0980\n",
            "Epoch 21/100\n",
            "469/469 [==============================] - 9s 20ms/step - loss: 4.9159e-16 - accuracy: 1.0000 - val_loss: 27.4775 - val_accuracy: 0.0980\n",
            "Epoch 22/100\n",
            "469/469 [==============================] - 9s 19ms/step - loss: 5.7140e-16 - accuracy: 1.0000 - val_loss: 27.4511 - val_accuracy: 0.0980\n",
            "Epoch 23/100\n",
            "469/469 [==============================] - 9s 19ms/step - loss: 5.0939e-16 - accuracy: 1.0000 - val_loss: 27.1406 - val_accuracy: 0.0980\n",
            "Epoch 24/100\n",
            "469/469 [==============================] - 9s 19ms/step - loss: 4.9809e-16 - accuracy: 1.0000 - val_loss: 27.3507 - val_accuracy: 0.0980\n",
            "Epoch 25/100\n",
            "469/469 [==============================] - 9s 19ms/step - loss: 4.4051e-16 - accuracy: 1.0000 - val_loss: 27.5775 - val_accuracy: 0.0980\n",
            "Epoch 26/100\n",
            "469/469 [==============================] - 9s 19ms/step - loss: 5.2545e-16 - accuracy: 1.0000 - val_loss: 27.2237 - val_accuracy: 0.0980\n",
            "Epoch 27/100\n",
            "469/469 [==============================] - 9s 20ms/step - loss: 4.7983e-16 - accuracy: 1.0000 - val_loss: 27.4670 - val_accuracy: 0.0980\n",
            "Epoch 28/100\n",
            "469/469 [==============================] - 9s 20ms/step - loss: 4.7280e-16 - accuracy: 1.0000 - val_loss: 27.5515 - val_accuracy: 0.0980\n",
            "Epoch 29/100\n",
            "469/469 [==============================] - 10s 21ms/step - loss: 5.2281e-16 - accuracy: 1.0000 - val_loss: 27.4947 - val_accuracy: 0.0980\n",
            "Epoch 30/100\n",
            "469/469 [==============================] - 10s 21ms/step - loss: 5.0116e-16 - accuracy: 1.0000 - val_loss: 27.3943 - val_accuracy: 0.0980\n",
            "Epoch 31/100\n",
            "469/469 [==============================] - 9s 20ms/step - loss: 5.2972e-16 - accuracy: 1.0000 - val_loss: 27.4333 - val_accuracy: 0.0980\n",
            "Epoch 32/100\n",
            "469/469 [==============================] - 9s 20ms/step - loss: 6.4048e-16 - accuracy: 1.0000 - val_loss: 27.2744 - val_accuracy: 0.0980\n",
            "Epoch 33/100\n",
            "469/469 [==============================] - 11s 23ms/step - loss: 5.3411e-16 - accuracy: 1.0000 - val_loss: 27.4251 - val_accuracy: 0.0980\n",
            "Epoch 34/100\n",
            "469/469 [==============================] - 9s 20ms/step - loss: 5.9231e-16 - accuracy: 1.0000 - val_loss: 27.6458 - val_accuracy: 0.0980\n",
            "Epoch 35/100\n",
            "469/469 [==============================] - 9s 20ms/step - loss: 5.2336e-16 - accuracy: 1.0000 - val_loss: 26.8739 - val_accuracy: 0.0980\n",
            "Epoch 36/100\n",
            "469/469 [==============================] - 9s 20ms/step - loss: 5.6335e-16 - accuracy: 1.0000 - val_loss: 27.1850 - val_accuracy: 0.0980\n",
            "Epoch 37/100\n",
            "469/469 [==============================] - 10s 20ms/step - loss: 4.4569e-16 - accuracy: 1.0000 - val_loss: 27.5147 - val_accuracy: 0.0980\n",
            "Epoch 38/100\n",
            "469/469 [==============================] - 12s 25ms/step - loss: 5.3639e-16 - accuracy: 1.0000 - val_loss: 26.8702 - val_accuracy: 0.0980\n",
            "Epoch 39/100\n",
            "469/469 [==============================] - 9s 20ms/step - loss: 6.0349e-16 - accuracy: 1.0000 - val_loss: 27.2298 - val_accuracy: 0.0980\n",
            "Epoch 40/100\n",
            "469/469 [==============================] - 10s 21ms/step - loss: 5.8392e-16 - accuracy: 1.0000 - val_loss: 27.1423 - val_accuracy: 0.0980\n",
            "Epoch 41/100\n",
            "469/469 [==============================] - 9s 20ms/step - loss: 5.5298e-16 - accuracy: 1.0000 - val_loss: 27.3342 - val_accuracy: 0.0980\n",
            "Epoch 42/100\n",
            "469/469 [==============================] - 9s 20ms/step - loss: 6.0784e-16 - accuracy: 1.0000 - val_loss: 27.4059 - val_accuracy: 0.0980\n",
            "Epoch 43/100\n",
            "469/469 [==============================] - 9s 19ms/step - loss: 5.0111e-16 - accuracy: 1.0000 - val_loss: 27.7044 - val_accuracy: 0.0980\n",
            "Epoch 44/100\n",
            "469/469 [==============================] - 9s 19ms/step - loss: 5.0885e-16 - accuracy: 1.0000 - val_loss: 27.6618 - val_accuracy: 0.0980\n",
            "Epoch 45/100\n",
            "469/469 [==============================] - 9s 19ms/step - loss: 5.1290e-16 - accuracy: 1.0000 - val_loss: 27.3164 - val_accuracy: 0.0980\n",
            "Epoch 46/100\n",
            "469/469 [==============================] - 9s 18ms/step - loss: 6.4108e-16 - accuracy: 1.0000 - val_loss: 27.2680 - val_accuracy: 0.0980\n",
            "Epoch 47/100\n",
            "469/469 [==============================] - 9s 18ms/step - loss: 5.6293e-16 - accuracy: 1.0000 - val_loss: 27.2077 - val_accuracy: 0.0980\n",
            "Epoch 48/100\n",
            "469/469 [==============================] - 9s 19ms/step - loss: 5.5568e-16 - accuracy: 1.0000 - val_loss: 27.6087 - val_accuracy: 0.0980\n",
            "Epoch 49/100\n",
            "469/469 [==============================] - 9s 19ms/step - loss: 5.7932e-16 - accuracy: 1.0000 - val_loss: 27.8733 - val_accuracy: 0.0980\n",
            "Epoch 50/100\n",
            "469/469 [==============================] - 9s 20ms/step - loss: 5.0554e-16 - accuracy: 1.0000 - val_loss: 27.4610 - val_accuracy: 0.0980\n",
            "Epoch 51/100\n",
            "469/469 [==============================] - 9s 19ms/step - loss: 4.7867e-16 - accuracy: 1.0000 - val_loss: 27.2343 - val_accuracy: 0.0980\n",
            "Epoch 52/100\n",
            "469/469 [==============================] - 9s 20ms/step - loss: 5.2445e-16 - accuracy: 1.0000 - val_loss: 27.3211 - val_accuracy: 0.0980\n",
            "Epoch 53/100\n",
            "469/469 [==============================] - 9s 19ms/step - loss: 6.0759e-16 - accuracy: 1.0000 - val_loss: 27.4045 - val_accuracy: 0.0980\n",
            "Epoch 54/100\n",
            "469/469 [==============================] - 9s 20ms/step - loss: 5.3449e-16 - accuracy: 1.0000 - val_loss: 27.7750 - val_accuracy: 0.0980\n",
            "Epoch 55/100\n",
            "469/469 [==============================] - 9s 20ms/step - loss: 5.0672e-16 - accuracy: 1.0000 - val_loss: 27.1625 - val_accuracy: 0.0980\n",
            "Epoch 56/100\n",
            "469/469 [==============================] - 9s 19ms/step - loss: 5.0863e-16 - accuracy: 1.0000 - val_loss: 27.2018 - val_accuracy: 0.0980\n",
            "Epoch 57/100\n",
            "469/469 [==============================] - 10s 20ms/step - loss: 5.4903e-16 - accuracy: 1.0000 - val_loss: 27.2010 - val_accuracy: 0.0980\n",
            "Epoch 58/100\n",
            "469/469 [==============================] - 9s 19ms/step - loss: 5.4184e-16 - accuracy: 1.0000 - val_loss: 27.3217 - val_accuracy: 0.0980\n",
            "Epoch 59/100\n",
            "469/469 [==============================] - 9s 19ms/step - loss: 6.0098e-16 - accuracy: 1.0000 - val_loss: 27.5167 - val_accuracy: 0.0980\n",
            "Epoch 60/100\n",
            "469/469 [==============================] - 9s 20ms/step - loss: 5.1560e-16 - accuracy: 1.0000 - val_loss: 27.4419 - val_accuracy: 0.0980\n",
            "Epoch 61/100\n",
            "469/469 [==============================] - 12s 25ms/step - loss: 4.5020e-16 - accuracy: 1.0000 - val_loss: 27.4409 - val_accuracy: 0.0980\n",
            "Epoch 62/100\n",
            "469/469 [==============================] - 9s 19ms/step - loss: 5.2191e-16 - accuracy: 1.0000 - val_loss: 27.6397 - val_accuracy: 0.0980\n",
            "Epoch 63/100\n",
            "469/469 [==============================] - 9s 19ms/step - loss: 5.6583e-16 - accuracy: 1.0000 - val_loss: 27.1338 - val_accuracy: 0.0980\n",
            "Epoch 64/100\n",
            "469/469 [==============================] - 9s 19ms/step - loss: 5.4113e-16 - accuracy: 1.0000 - val_loss: 27.3502 - val_accuracy: 0.0980\n",
            "Epoch 65/100\n",
            "469/469 [==============================] - 9s 20ms/step - loss: 6.1583e-16 - accuracy: 1.0000 - val_loss: 27.0577 - val_accuracy: 0.0980\n",
            "Epoch 66/100\n",
            "469/469 [==============================] - 9s 20ms/step - loss: 5.3048e-16 - accuracy: 1.0000 - val_loss: 27.5973 - val_accuracy: 0.0980\n",
            "Epoch 67/100\n",
            "469/469 [==============================] - 9s 19ms/step - loss: 5.1140e-16 - accuracy: 1.0000 - val_loss: 27.4327 - val_accuracy: 0.0980\n",
            "Epoch 68/100\n",
            "469/469 [==============================] - 9s 20ms/step - loss: 4.6368e-16 - accuracy: 1.0000 - val_loss: 27.2300 - val_accuracy: 0.0980\n",
            "Epoch 69/100\n",
            "469/469 [==============================] - 9s 19ms/step - loss: 5.2333e-16 - accuracy: 1.0000 - val_loss: 27.4902 - val_accuracy: 0.0980\n",
            "Epoch 70/100\n",
            "469/469 [==============================] - 9s 20ms/step - loss: 6.0693e-16 - accuracy: 1.0000 - val_loss: 27.3496 - val_accuracy: 0.0980\n",
            "Epoch 71/100\n",
            "469/469 [==============================] - 9s 20ms/step - loss: 5.3304e-16 - accuracy: 1.0000 - val_loss: 27.2341 - val_accuracy: 0.0980\n",
            "Epoch 72/100\n",
            "469/469 [==============================] - 9s 19ms/step - loss: 4.9408e-16 - accuracy: 1.0000 - val_loss: 27.3581 - val_accuracy: 0.0980\n",
            "Epoch 73/100\n",
            "469/469 [==============================] - 9s 19ms/step - loss: 4.6929e-16 - accuracy: 1.0000 - val_loss: 27.5508 - val_accuracy: 0.0980\n",
            "Epoch 74/100\n",
            "469/469 [==============================] - 9s 19ms/step - loss: 5.5271e-16 - accuracy: 1.0000 - val_loss: 27.4863 - val_accuracy: 0.0980\n",
            "Epoch 75/100\n",
            "469/469 [==============================] - 9s 19ms/step - loss: 6.0802e-16 - accuracy: 1.0000 - val_loss: 27.5459 - val_accuracy: 0.0980\n",
            "Epoch 76/100\n",
            "469/469 [==============================] - 9s 19ms/step - loss: 5.1088e-16 - accuracy: 1.0000 - val_loss: 27.2073 - val_accuracy: 0.0980\n",
            "Epoch 77/100\n",
            "469/469 [==============================] - 9s 19ms/step - loss: 4.7426e-16 - accuracy: 1.0000 - val_loss: 27.5563 - val_accuracy: 0.0980\n",
            "Epoch 78/100\n",
            "469/469 [==============================] - 9s 19ms/step - loss: 5.3457e-16 - accuracy: 1.0000 - val_loss: 27.4255 - val_accuracy: 0.0980\n",
            "Epoch 79/100\n",
            "469/469 [==============================] - 9s 20ms/step - loss: 4.7052e-16 - accuracy: 1.0000 - val_loss: 27.4261 - val_accuracy: 0.0980\n",
            "Epoch 80/100\n",
            "469/469 [==============================] - 9s 19ms/step - loss: 4.9669e-16 - accuracy: 1.0000 - val_loss: 27.5880 - val_accuracy: 0.0980\n",
            "Epoch 81/100\n",
            "469/469 [==============================] - 9s 19ms/step - loss: 5.9275e-16 - accuracy: 1.0000 - val_loss: 26.8204 - val_accuracy: 0.0980\n",
            "Epoch 82/100\n",
            "469/469 [==============================] - 9s 20ms/step - loss: 4.7075e-16 - accuracy: 1.0000 - val_loss: 27.4369 - val_accuracy: 0.0980\n",
            "Epoch 83/100\n",
            "469/469 [==============================] - 12s 25ms/step - loss: 4.8559e-16 - accuracy: 1.0000 - val_loss: 27.5081 - val_accuracy: 0.0980\n",
            "Epoch 84/100\n",
            "469/469 [==============================] - 9s 20ms/step - loss: 5.5099e-16 - accuracy: 1.0000 - val_loss: 27.4566 - val_accuracy: 0.0980\n",
            "Epoch 85/100\n",
            "469/469 [==============================] - 10s 20ms/step - loss: 4.2718e-16 - accuracy: 1.0000 - val_loss: 27.7855 - val_accuracy: 0.0980\n",
            "Epoch 86/100\n",
            "469/469 [==============================] - 9s 19ms/step - loss: 5.3822e-16 - accuracy: 1.0000 - val_loss: 27.7618 - val_accuracy: 0.0980\n",
            "Epoch 87/100\n",
            "469/469 [==============================] - 9s 20ms/step - loss: 5.1667e-16 - accuracy: 1.0000 - val_loss: 27.3368 - val_accuracy: 0.0980\n",
            "Epoch 88/100\n",
            "469/469 [==============================] - 9s 20ms/step - loss: 5.0817e-16 - accuracy: 1.0000 - val_loss: 27.4990 - val_accuracy: 0.0980\n",
            "Epoch 89/100\n",
            "469/469 [==============================] - 9s 19ms/step - loss: 5.4201e-16 - accuracy: 1.0000 - val_loss: 27.1329 - val_accuracy: 0.0980\n",
            "Epoch 90/100\n",
            "469/469 [==============================] - 9s 19ms/step - loss: 5.8752e-16 - accuracy: 1.0000 - val_loss: 27.4235 - val_accuracy: 0.0980\n",
            "Epoch 91/100\n",
            "469/469 [==============================] - 9s 19ms/step - loss: 4.8937e-16 - accuracy: 1.0000 - val_loss: 27.2438 - val_accuracy: 0.0980\n",
            "Epoch 92/100\n",
            "469/469 [==============================] - 9s 20ms/step - loss: 4.6087e-16 - accuracy: 1.0000 - val_loss: 27.2486 - val_accuracy: 0.0980\n",
            "Epoch 93/100\n",
            "469/469 [==============================] - 9s 20ms/step - loss: 5.2362e-16 - accuracy: 1.0000 - val_loss: 27.4008 - val_accuracy: 0.0980\n",
            "Epoch 94/100\n",
            "469/469 [==============================] - 9s 20ms/step - loss: 5.9631e-16 - accuracy: 1.0000 - val_loss: 27.1481 - val_accuracy: 0.0980\n",
            "Epoch 95/100\n",
            "469/469 [==============================] - 9s 19ms/step - loss: 5.1606e-16 - accuracy: 1.0000 - val_loss: 27.3829 - val_accuracy: 0.0980\n",
            "Epoch 96/100\n",
            "469/469 [==============================] - 9s 19ms/step - loss: 4.9156e-16 - accuracy: 1.0000 - val_loss: 27.3113 - val_accuracy: 0.0980\n",
            "Epoch 97/100\n",
            "469/469 [==============================] - 9s 20ms/step - loss: 5.3874e-16 - accuracy: 1.0000 - val_loss: 27.2156 - val_accuracy: 0.0980\n",
            "Epoch 98/100\n",
            "469/469 [==============================] - 9s 20ms/step - loss: 5.2976e-16 - accuracy: 1.0000 - val_loss: 27.1826 - val_accuracy: 0.0980\n",
            "Epoch 99/100\n",
            "469/469 [==============================] - 9s 20ms/step - loss: 4.9001e-16 - accuracy: 1.0000 - val_loss: 27.5924 - val_accuracy: 0.0980\n",
            "Epoch 100/100\n",
            "469/469 [==============================] - 9s 20ms/step - loss: 5.6449e-16 - accuracy: 1.0000 - val_loss: 26.9374 - val_accuracy: 0.0980\n"
          ]
        }
      ],
      "source": [
        "history = model.fit(X_train,y_train,\n",
        "          batch_size=128, epochs=100,\n",
        "          verbose=1, \n",
        "          validation_data= (X_test,y_test))"
      ]
    },
    {
      "cell_type": "code",
      "execution_count": null,
      "metadata": {
        "colab": {
          "base_uri": "https://localhost:8080/"
        },
        "id": "82rHdoe8WFlv",
        "outputId": "dbe2b753-829d-47e6-884b-0824a9f8c93e"
      },
      "outputs": [
        {
          "data": {
            "text/plain": [
              "{'verbose': 1, 'epochs': 100, 'steps': 469}"
            ]
          },
          "execution_count": 45,
          "metadata": {},
          "output_type": "execute_result"
        }
      ],
      "source": [
        "history.params"
      ]
    },
    {
      "cell_type": "code",
      "execution_count": null,
      "metadata": {
        "colab": {
          "base_uri": "https://localhost:8080/"
        },
        "id": "oRCN6npLWlcO",
        "outputId": "d49fb9c6-128a-4668-8dc6-cd055e6bfe88"
      },
      "outputs": [
        {
          "data": {
            "text/plain": [
              "{'loss': [4.3031412478710274e-16,\n",
              "  4.1095238098096793e-16,\n",
              "  4.623077238752001e-16,\n",
              "  4.2275178816423675e-16,\n",
              "  4.5470332677254705e-16,\n",
              "  4.639189393595554e-16,\n",
              "  4.148098219623232e-16,\n",
              "  4.129142681054865e-16,\n",
              "  4.1902365205623575e-16,\n",
              "  4.0858839143452e-16,\n",
              "  4.3172874921835623e-16,\n",
              "  5.423425435722789e-16,\n",
              "  5.636340401904958e-16,\n",
              "  5.174318869286812e-16,\n",
              "  4.3857518418211473e-16,\n",
              "  5.870068555787942e-16,\n",
              "  5.297204821087689e-16,\n",
              "  5.49663502274957e-16,\n",
              "  5.131855519454177e-16,\n",
              "  5.851944168299068e-16,\n",
              "  4.915897587408997e-16,\n",
              "  5.714037675365411e-16,\n",
              "  5.093910031603961e-16,\n",
              "  4.980905777923989e-16,\n",
              "  4.405061016644993e-16,\n",
              "  5.254484184997327e-16,\n",
              "  4.798340531637533e-16,\n",
              "  4.72800132751076e-16,\n",
              "  5.228090638360883e-16,\n",
              "  5.011597487372156e-16,\n",
              "  5.297178351308088e-16,\n",
              "  6.404829042751551e-16,\n",
              "  5.341057304953821e-16,\n",
              "  5.92307428944034e-16,\n",
              "  5.233623351693229e-16,\n",
              "  5.633498076971328e-16,\n",
              "  4.456856551974002e-16,\n",
              "  5.363882195904364e-16,\n",
              "  6.034920754960534e-16,\n",
              "  5.839230733156373e-16,\n",
              "  5.529840831864307e-16,\n",
              "  6.078415896802042e-16,\n",
              "  5.011081326669923e-16,\n",
              "  5.088490608928309e-16,\n",
              "  5.129017959080876e-16,\n",
              "  6.410818095084231e-16,\n",
              "  5.629311616629524e-16,\n",
              "  5.556763244697193e-16,\n",
              "  5.793223079835071e-16,\n",
              "  5.055383796789283e-16,\n",
              "  4.78674941514995e-16,\n",
              "  5.244509313252223e-16,\n",
              "  6.075868974608767e-16,\n",
              "  5.344913422446196e-16,\n",
              "  5.067173966019471e-16,\n",
              "  5.086257088925518e-16,\n",
              "  5.490335744599958e-16,\n",
              "  5.41838135452189e-16,\n",
              "  6.009778170108066e-16,\n",
              "  5.155982194165532e-16,\n",
              "  4.50203040723785e-16,\n",
              "  5.219052267418087e-16,\n",
              "  5.658296025293382e-16,\n",
              "  5.411295394522515e-16,\n",
              "  6.158318632298908e-16,\n",
              "  5.304823882448242e-16,\n",
              "  5.114029711079211e-16,\n",
              "  4.636791760959233e-16,\n",
              "  5.233296185217352e-16,\n",
              "  6.069268470367288e-16,\n",
              "  5.33037516069776e-16,\n",
              "  4.94080459122301e-16,\n",
              "  4.69291298767075e-16,\n",
              "  5.527112326982964e-16,\n",
              "  6.080160255277794e-16,\n",
              "  5.108813046915308e-16,\n",
              "  4.742587234862479e-16,\n",
              "  5.345691104570894e-16,\n",
              "  4.705212964856067e-16,\n",
              "  4.966935028250213e-16,\n",
              "  5.927466684667445e-16,\n",
              "  4.707454425792739e-16,\n",
              "  4.855855656942876e-16,\n",
              "  5.509882618044627e-16,\n",
              "  4.271844968656757e-16,\n",
              "  5.38223634108018e-16,\n",
              "  5.166672808751065e-16,\n",
              "  5.081652935461599e-16,\n",
              "  5.420119889646129e-16,\n",
              "  5.875239162535337e-16,\n",
              "  4.893679383806925e-16,\n",
              "  4.608674502275126e-16,\n",
              "  5.236241212895837e-16,\n",
              "  5.96311353685705e-16,\n",
              "  5.160559348454258e-16,\n",
              "  4.915623360492324e-16,\n",
              "  5.387375184092054e-16,\n",
              "  5.297636807890789e-16,\n",
              "  4.900053306735013e-16,\n",
              "  5.644946786044654e-16],\n",
              " 'accuracy': [1.0,\n",
              "  1.0,\n",
              "  1.0,\n",
              "  1.0,\n",
              "  1.0,\n",
              "  1.0,\n",
              "  1.0,\n",
              "  1.0,\n",
              "  1.0,\n",
              "  1.0,\n",
              "  1.0,\n",
              "  1.0,\n",
              "  1.0,\n",
              "  1.0,\n",
              "  1.0,\n",
              "  1.0,\n",
              "  1.0,\n",
              "  1.0,\n",
              "  1.0,\n",
              "  1.0,\n",
              "  1.0,\n",
              "  1.0,\n",
              "  1.0,\n",
              "  1.0,\n",
              "  1.0,\n",
              "  1.0,\n",
              "  1.0,\n",
              "  1.0,\n",
              "  1.0,\n",
              "  1.0,\n",
              "  1.0,\n",
              "  1.0,\n",
              "  1.0,\n",
              "  1.0,\n",
              "  1.0,\n",
              "  1.0,\n",
              "  1.0,\n",
              "  1.0,\n",
              "  1.0,\n",
              "  1.0,\n",
              "  1.0,\n",
              "  1.0,\n",
              "  1.0,\n",
              "  1.0,\n",
              "  1.0,\n",
              "  1.0,\n",
              "  1.0,\n",
              "  1.0,\n",
              "  1.0,\n",
              "  1.0,\n",
              "  1.0,\n",
              "  1.0,\n",
              "  1.0,\n",
              "  1.0,\n",
              "  1.0,\n",
              "  1.0,\n",
              "  1.0,\n",
              "  1.0,\n",
              "  1.0,\n",
              "  1.0,\n",
              "  1.0,\n",
              "  1.0,\n",
              "  1.0,\n",
              "  1.0,\n",
              "  1.0,\n",
              "  1.0,\n",
              "  1.0,\n",
              "  1.0,\n",
              "  1.0,\n",
              "  1.0,\n",
              "  1.0,\n",
              "  1.0,\n",
              "  1.0,\n",
              "  1.0,\n",
              "  1.0,\n",
              "  1.0,\n",
              "  1.0,\n",
              "  1.0,\n",
              "  1.0,\n",
              "  1.0,\n",
              "  1.0,\n",
              "  1.0,\n",
              "  1.0,\n",
              "  1.0,\n",
              "  1.0,\n",
              "  1.0,\n",
              "  1.0,\n",
              "  1.0,\n",
              "  1.0,\n",
              "  1.0,\n",
              "  1.0,\n",
              "  1.0,\n",
              "  1.0,\n",
              "  1.0,\n",
              "  1.0,\n",
              "  1.0,\n",
              "  1.0,\n",
              "  1.0,\n",
              "  1.0,\n",
              "  1.0],\n",
              " 'val_loss': [27.154693603515625,\n",
              "  27.19186782836914,\n",
              "  27.2238712310791,\n",
              "  27.11022186279297,\n",
              "  27.125314712524414,\n",
              "  27.232749938964844,\n",
              "  27.432180404663086,\n",
              "  27.28684425354004,\n",
              "  27.3627872467041,\n",
              "  27.13412094116211,\n",
              "  27.199066162109375,\n",
              "  27.09244728088379,\n",
              "  27.228696823120117,\n",
              "  27.211734771728516,\n",
              "  27.70284080505371,\n",
              "  27.44284439086914,\n",
              "  27.334699630737305,\n",
              "  27.353755950927734,\n",
              "  27.261106491088867,\n",
              "  27.28084373474121,\n",
              "  27.477506637573242,\n",
              "  27.451065063476562,\n",
              "  27.140628814697266,\n",
              "  27.35066795349121,\n",
              "  27.57747459411621,\n",
              "  27.223684310913086,\n",
              "  27.46698760986328,\n",
              "  27.55152130126953,\n",
              "  27.494741439819336,\n",
              "  27.394325256347656,\n",
              "  27.433252334594727,\n",
              "  27.27436637878418,\n",
              "  27.42511558532715,\n",
              "  27.645797729492188,\n",
              "  26.873947143554688,\n",
              "  27.185049057006836,\n",
              "  27.51473045349121,\n",
              "  26.870182037353516,\n",
              "  27.22976303100586,\n",
              "  27.142290115356445,\n",
              "  27.33418083190918,\n",
              "  27.40591812133789,\n",
              "  27.70444679260254,\n",
              "  27.66183090209961,\n",
              "  27.316381454467773,\n",
              "  27.268049240112305,\n",
              "  27.207721710205078,\n",
              "  27.60872459411621,\n",
              "  27.873268127441406,\n",
              "  27.461009979248047,\n",
              "  27.234277725219727,\n",
              "  27.321130752563477,\n",
              "  27.404508590698242,\n",
              "  27.774965286254883,\n",
              "  27.162534713745117,\n",
              "  27.20181655883789,\n",
              "  27.201025009155273,\n",
              "  27.32174301147461,\n",
              "  27.516691207885742,\n",
              "  27.441865921020508,\n",
              "  27.440940856933594,\n",
              "  27.639680862426758,\n",
              "  27.13379669189453,\n",
              "  27.35024070739746,\n",
              "  27.057687759399414,\n",
              "  27.597314834594727,\n",
              "  27.432722091674805,\n",
              "  27.229984283447266,\n",
              "  27.490184783935547,\n",
              "  27.34955596923828,\n",
              "  27.234140396118164,\n",
              "  27.358078002929688,\n",
              "  27.550765991210938,\n",
              "  27.4863338470459,\n",
              "  27.545940399169922,\n",
              "  27.20730972290039,\n",
              "  27.55634307861328,\n",
              "  27.425466537475586,\n",
              "  27.426118850708008,\n",
              "  27.587984085083008,\n",
              "  26.820362091064453,\n",
              "  27.436918258666992,\n",
              "  27.5080623626709,\n",
              "  27.456628799438477,\n",
              "  27.785478591918945,\n",
              "  27.76175880432129,\n",
              "  27.33678436279297,\n",
              "  27.498981475830078,\n",
              "  27.132896423339844,\n",
              "  27.423513412475586,\n",
              "  27.2437744140625,\n",
              "  27.248559951782227,\n",
              "  27.40079689025879,\n",
              "  27.148115158081055,\n",
              "  27.382919311523438,\n",
              "  27.31133460998535,\n",
              "  27.215635299682617,\n",
              "  27.182579040527344,\n",
              "  27.592378616333008,\n",
              "  26.937353134155273],\n",
              " 'val_accuracy': [0.09799999743700027,\n",
              "  0.09799999743700027,\n",
              "  0.09799999743700027,\n",
              "  0.09799999743700027,\n",
              "  0.09799999743700027,\n",
              "  0.09799999743700027,\n",
              "  0.09799999743700027,\n",
              "  0.09799999743700027,\n",
              "  0.09799999743700027,\n",
              "  0.09799999743700027,\n",
              "  0.09799999743700027,\n",
              "  0.09799999743700027,\n",
              "  0.09799999743700027,\n",
              "  0.09799999743700027,\n",
              "  0.09799999743700027,\n",
              "  0.09799999743700027,\n",
              "  0.09799999743700027,\n",
              "  0.09799999743700027,\n",
              "  0.09799999743700027,\n",
              "  0.09799999743700027,\n",
              "  0.09799999743700027,\n",
              "  0.09799999743700027,\n",
              "  0.09799999743700027,\n",
              "  0.09799999743700027,\n",
              "  0.09799999743700027,\n",
              "  0.09799999743700027,\n",
              "  0.09799999743700027,\n",
              "  0.09799999743700027,\n",
              "  0.09799999743700027,\n",
              "  0.09799999743700027,\n",
              "  0.09799999743700027,\n",
              "  0.09799999743700027,\n",
              "  0.09799999743700027,\n",
              "  0.09799999743700027,\n",
              "  0.09799999743700027,\n",
              "  0.09799999743700027,\n",
              "  0.09799999743700027,\n",
              "  0.09799999743700027,\n",
              "  0.09799999743700027,\n",
              "  0.09799999743700027,\n",
              "  0.09799999743700027,\n",
              "  0.09799999743700027,\n",
              "  0.09799999743700027,\n",
              "  0.09799999743700027,\n",
              "  0.09799999743700027,\n",
              "  0.09799999743700027,\n",
              "  0.09799999743700027,\n",
              "  0.09799999743700027,\n",
              "  0.09799999743700027,\n",
              "  0.09799999743700027,\n",
              "  0.09799999743700027,\n",
              "  0.09799999743700027,\n",
              "  0.09799999743700027,\n",
              "  0.09799999743700027,\n",
              "  0.09799999743700027,\n",
              "  0.09799999743700027,\n",
              "  0.09799999743700027,\n",
              "  0.09799999743700027,\n",
              "  0.09799999743700027,\n",
              "  0.09799999743700027,\n",
              "  0.09799999743700027,\n",
              "  0.09799999743700027,\n",
              "  0.09799999743700027,\n",
              "  0.09799999743700027,\n",
              "  0.09799999743700027,\n",
              "  0.09799999743700027,\n",
              "  0.09799999743700027,\n",
              "  0.09799999743700027,\n",
              "  0.09799999743700027,\n",
              "  0.09799999743700027,\n",
              "  0.09799999743700027,\n",
              "  0.09799999743700027,\n",
              "  0.09799999743700027,\n",
              "  0.09799999743700027,\n",
              "  0.09799999743700027,\n",
              "  0.09799999743700027,\n",
              "  0.09799999743700027,\n",
              "  0.09799999743700027,\n",
              "  0.09799999743700027,\n",
              "  0.09799999743700027,\n",
              "  0.09799999743700027,\n",
              "  0.09799999743700027,\n",
              "  0.09799999743700027,\n",
              "  0.09799999743700027,\n",
              "  0.09799999743700027,\n",
              "  0.09799999743700027,\n",
              "  0.09799999743700027,\n",
              "  0.09799999743700027,\n",
              "  0.09799999743700027,\n",
              "  0.09799999743700027,\n",
              "  0.09799999743700027,\n",
              "  0.09799999743700027,\n",
              "  0.09799999743700027,\n",
              "  0.09799999743700027,\n",
              "  0.09799999743700027,\n",
              "  0.09799999743700027,\n",
              "  0.09799999743700027,\n",
              "  0.09799999743700027,\n",
              "  0.09799999743700027,\n",
              "  0.09799999743700027]}"
            ]
          },
          "execution_count": 46,
          "metadata": {},
          "output_type": "execute_result"
        }
      ],
      "source": [
        "history.history"
      ]
    },
    {
      "cell_type": "code",
      "execution_count": null,
      "metadata": {
        "colab": {
          "base_uri": "https://localhost:8080/",
          "height": 428
        },
        "id": "Mu9BwoeEWtXi",
        "outputId": "c362d81b-acf9-483d-89ed-cbc307d8e202"
      },
      "outputs": [
        {
          "data": {
            "image/png": "[encoded data removed]",
            "text/plain": [
              "<Figure size 504x504 with 1 Axes>"
            ]
          },
          "metadata": {},
          "output_type": "display_data"
        }
      ],
      "source": [
        "plt.figure()\n",
        "plt.plot(history.history['loss'],label='train')\n",
        "plt.plot(history.history['val_loss'],label='Val')\n",
        "plt.legend()\n",
        "plt.grid()"
      ]
    },
    {
      "cell_type": "code",
      "execution_count": null,
      "metadata": {
        "colab": {
          "base_uri": "https://localhost:8080/",
          "height": 428
        },
        "id": "cEkT9VQKXWDK",
        "outputId": "cc875932-9c01-454a-c629-1c7be1c560f0"
      },
      "outputs": [
        {
          "data": {
            "image/png": "[encoded data removed]",
            "text/plain": [
              "<Figure size 504x504 with 1 Axes>"
            ]
          },
          "metadata": {},
          "output_type": "display_data"
        }
      ],
      "source": [
        "plt.figure()\n",
        "plt.plot(history.history['accuracy'],label='Train')\n",
        "plt.plot(history.history['val_accuracy'],label='Val')\n",
        "plt.legend()\n",
        "plt.grid()"
      ]
    },
    {
      "cell_type": "markdown",
      "metadata": {
        "id": "BhLH9QfKrmQK"
      },
      "source": [
        "## 5. Evaluating Model"
      ]
    },
    {
      "cell_type": "code",
      "execution_count": null,
      "metadata": {
        "id": "RvUjxav1Xnf3"
      },
      "outputs": [],
      "source": [
        "score = model.evaluate(X_test,y_test,verbose=1)\n",
        "print('Test accuracy:',score)"
      ]
    },
    {
      "cell_type": "markdown",
      "metadata": {
        "id": "ujhdPY-8rmFV"
      },
      "source": [
        "## 6. Model Saving"
      ]
    },
    {
      "cell_type": "code",
      "execution_count": null,
      "metadata": {
        "colab": {
          "background_save": true
        },
        "id": "luLtA2vLY6Rc",
        "outputId": "67f407a2-a9f6-4ea1-f03b-4f4f6945dbff"
      },
      "outputs": [
        {
          "ename": "AttributeError",
          "evalue": "ignored",
          "output_type": "error",
          "traceback": [
            "\u001b[0;31m---------------------------------------------------------------------------\u001b[0m",
            "\u001b[0;31mAttributeError\u001b[0m                            Traceback (most recent call last)",
            "\u001b[0;32m<ipython-input-49-0e953a557831>\u001b[0m in \u001b[0;36m<module>\u001b[0;34m\u001b[0m\n\u001b[1;32m      1\u001b[0m \u001b[0mmodel\u001b[0m\u001b[0;34m.\u001b[0m\u001b[0msave\u001b[0m\u001b[0;34m(\u001b[0m\u001b[0;34m'mo_model.h5'\u001b[0m\u001b[0;34m)\u001b[0m\u001b[0;34m\u001b[0m\u001b[0;34m\u001b[0m\u001b[0m\n\u001b[0;32m----> 2\u001b[0;31m \u001b[0mmodel\u001b[0m\u001b[0;34m.\u001b[0m\u001b[0mtf\u001b[0m\u001b[0;34m.\u001b[0m\u001b[0mkeras\u001b[0m\u001b[0;34m.\u001b[0m\u001b[0mmodels\u001b[0m\u001b[0;34m.\u001b[0m\u001b[0mload_model\u001b[0m\u001b[0;34m(\u001b[0m\u001b[0;34m'my_model.h5'\u001b[0m\u001b[0;34m)\u001b[0m\u001b[0;34m\u001b[0m\u001b[0;34m\u001b[0m\u001b[0m\n\u001b[0m",
            "\u001b[0;31mAttributeError\u001b[0m: 'Sequential' object has no attribute 'tf'"
          ]
        }
      ],
      "source": [
        "model.save('mo_model.h5')\n",
        "model.tf.keras.models.load_model('my_model.h5')"
      ]
    },
    {
      "cell_type": "markdown",
      "metadata": {
        "id": "WP5bVN2FYkej"
      },
      "source": [
        "###Tensorflowboard"
      ]
    }
  ],
  "metadata": {
    "colab": {
      "name": "1_CV_NN_Image_Classification.ipynb",
      "provenance": [],
      "authorship_tag": "ABX9TyPXL2fUwfGA2NSNjALhpGnf",
      "include_colab_link": true
    },
    "kernelspec": {
      "display_name": "Python 3",
      "name": "python3"
    },
    "language_info": {
      "name": "python"
    }
  },
  "nbformat": 4,
  "nbformat_minor": 0
}