{
  "cells": [
    {
      "cell_type": "markdown",
      "metadata": {
        "id": "view-in-github",
        "colab_type": "text"
      },
      "source": [
        "<a href=\"https://colab.research.google.com/github/HeHeHuang/CV_DeepLearning/blob/main/1_CV_NN_Image_Classification.ipynb\" target=\"_parent\"><img src=\"https://colab.research.google.com/assets/colab-badge.svg\" alt=\"Open In Colab\"/></a>"
      ]
    },
    {
      "cell_type": "code",
      "execution_count": null,
      "metadata": {
        "id": "Gzui0H7DrZGo"
      },
      "outputs": [],
      "source": [
        "import numpy as np\n",
        "import matplotlib.pyplot as plt\n",
        "plt.rcParams['figure.figsize'] = (7,7)\n",
        "\n",
        "import tensorflow as tf\n",
        "from tensorflow.keras.datasets import mnist\n",
        "from tensorflow.keras.models import Sequential\n",
        "from tensorflow.keras.layers import Dense, Dropout,Activation, BatchNormalization \n",
        "from tensorflow.keras import utils,regularizers"
      ]
    },
    {
      "cell_type": "markdown",
      "metadata": {
        "id": "ghT3H0z_rmps"
      },
      "source": [
        "## 1. DATA IMPORT"
      ]
    },
    {
      "cell_type": "code",
      "execution_count": null,
      "metadata": {
        "id": "cX-7cgwGsGQb"
      },
      "outputs": [],
      "source": [
        "nb_classes = 10\n",
        "(X_train, y_train),(X_test,y_test) = mnist.load_data()\n"
      ]
    },
    {
      "cell_type": "code",
      "execution_count": null,
      "metadata": {
        "colab": {
          "base_uri": "https://localhost:8080/"
        },
        "id": "-EcCEFAYttwS",
        "outputId": "9eac246a-cdc7-4797-ea6d-44cdf345ee33"
      },
      "outputs": [
        {
          "output_type": "stream",
          "name": "stdout",
          "text": [
            "Shape of features Training set (60000, 28, 28)\n",
            "Shape of label Training set (60000,)\n"
          ]
        }
      ],
      "source": [
        "print(\"Shape of features Training set\",X_train.shape)\n",
        "print(\"Shape of label Training set\",y_train.shape)"
      ]
    },
    {
      "cell_type": "code",
      "execution_count": null,
      "metadata": {
        "colab": {
          "base_uri": "https://localhost:8080/",
          "height": 444
        },
        "id": "lWkRElrBuYXj",
        "outputId": "2faafa0f-fe1f-4efb-dce5-78be9c18de36"
      },
      "outputs": [
        {
          "output_type": "display_data",
          "data": {
            "text/plain": [
              "<Figure size 504x504 with 9 Axes>"
            ],
            "image/png": "[encoded data removed]"
          },
          "metadata": {
            "needs_background": "light"
          }
        }
      ],
      "source": [
        "# visualization for the first image\n",
        "for i in range(9):\n",
        "  plt.subplot(3,3,i+1) # \n",
        "  plt.imshow(X_train[i],cmap = 'gray',interpolation= 'none')\n",
        "  plt.title(\"Num{}\".format(y_train[i]))"
      ]
    },
    {
      "cell_type": "markdown",
      "metadata": {
        "id": "SrueX9X3rmk1"
      },
      "source": [
        "## 2.Data Preparation\n",
        "* convert 28 X 28 Pixel to 784 vector\n",
        "* convert 0-255 to 0-1 (Normlization)\n"
      ]
    },
    {
      "cell_type": "markdown",
      "metadata": {
        "id": "VBQGJmePKW5t"
      },
      "source": [
        "### Prepare X features "
      ]
    },
    {
      "cell_type": "code",
      "execution_count": null,
      "metadata": {
        "colab": {
          "base_uri": "https://localhost:8080/"
        },
        "id": "yHcZzYTesGed",
        "outputId": "ec1f2812-6684-4409-e3d4-456a41a0bf3e"
      },
      "outputs": [
        {
          "output_type": "execute_result",
          "data": {
            "text/plain": [
              "(60000, 28, 28)"
            ]
          },
          "metadata": {},
          "execution_count": 44
        }
      ],
      "source": [
        "X_train.shape"
      ]
    },
    {
      "cell_type": "code",
      "execution_count": null,
      "metadata": {
        "colab": {
          "base_uri": "https://localhost:8080/"
        },
        "id": "bOf5i57IIn-M",
        "outputId": "0bedf693-3b0a-4757-99cf-6d8282681269"
      },
      "outputs": [
        {
          "output_type": "execute_result",
          "data": {
            "text/plain": [
              "array([[  0,   0,   0,   0,   0,   0,   0,   0,   0,   0,   0,   0,   0,\n",
              "          0,   0,   0,   0,   0,   0,   0,   0,   0,   0,   0,   0,   0,\n",
              "          0,   0],\n",
              "       [  0,   0,   0,   0,   0,   0,   0,   0,   0,   0,   0,   0,   0,\n",
              "          0,   0,   0,   0,   0,   0,   0,   0,   0,   0,   0,   0,   0,\n",
              "          0,   0],\n",
              "       [  0,   0,   0,   0,   0,   0,   0,   0,   0,   0,   0,   0,   0,\n",
              "          0,   0,   0,   0,   0,   0,   0,   0,   0,   0,   0,   0,   0,\n",
              "          0,   0],\n",
              "       [  0,   0,   0,   0,   0,   0,   0,   0,   0,   0,   0,   0,   0,\n",
              "          0,   0,   0,   0,   0,   0,   0,   0,   0,   0,   0,   0,   0,\n",
              "          0,   0],\n",
              "       [  0,   0,   0,   0,   0,   0,   0,   0,   0,   0,   0,   0,   0,\n",
              "          0,   0,  51, 159, 253, 159,  50,   0,   0,   0,   0,   0,   0,\n",
              "          0,   0],\n",
              "       [  0,   0,   0,   0,   0,   0,   0,   0,   0,   0,   0,   0,   0,\n",
              "          0,  48, 238, 252, 252, 252, 237,   0,   0,   0,   0,   0,   0,\n",
              "          0,   0],\n",
              "       [  0,   0,   0,   0,   0,   0,   0,   0,   0,   0,   0,   0,   0,\n",
              "         54, 227, 253, 252, 239, 233, 252,  57,   6,   0,   0,   0,   0,\n",
              "          0,   0],\n",
              "       [  0,   0,   0,   0,   0,   0,   0,   0,   0,   0,   0,  10,  60,\n",
              "        224, 252, 253, 252, 202,  84, 252, 253, 122,   0,   0,   0,   0,\n",
              "          0,   0],\n",
              "       [  0,   0,   0,   0,   0,   0,   0,   0,   0,   0,   0, 163, 252,\n",
              "        252, 252, 253, 252, 252,  96, 189, 253, 167,   0,   0,   0,   0,\n",
              "          0,   0],\n",
              "       [  0,   0,   0,   0,   0,   0,   0,   0,   0,   0,  51, 238, 253,\n",
              "        253, 190, 114, 253, 228,  47,  79, 255, 168,   0,   0,   0,   0,\n",
              "          0,   0],\n",
              "       [  0,   0,   0,   0,   0,   0,   0,   0,   0,  48, 238, 252, 252,\n",
              "        179,  12,  75, 121,  21,   0,   0, 253, 243,  50,   0,   0,   0,\n",
              "          0,   0],\n",
              "       [  0,   0,   0,   0,   0,   0,   0,   0,  38, 165, 253, 233, 208,\n",
              "         84,   0,   0,   0,   0,   0,   0, 253, 252, 165,   0,   0,   0,\n",
              "          0,   0],\n",
              "       [  0,   0,   0,   0,   0,   0,   0,   7, 178, 252, 240,  71,  19,\n",
              "         28,   0,   0,   0,   0,   0,   0, 253, 252, 195,   0,   0,   0,\n",
              "          0,   0],\n",
              "       [  0,   0,   0,   0,   0,   0,   0,  57, 252, 252,  63,   0,   0,\n",
              "          0,   0,   0,   0,   0,   0,   0, 253, 252, 195,   0,   0,   0,\n",
              "          0,   0],\n",
              "       [  0,   0,   0,   0,   0,   0,   0, 198, 253, 190,   0,   0,   0,\n",
              "          0,   0,   0,   0,   0,   0,   0, 255, 253, 196,   0,   0,   0,\n",
              "          0,   0],\n",
              "       [  0,   0,   0,   0,   0,   0,  76, 246, 252, 112,   0,   0,   0,\n",
              "          0,   0,   0,   0,   0,   0,   0, 253, 252, 148,   0,   0,   0,\n",
              "          0,   0],\n",
              "       [  0,   0,   0,   0,   0,   0,  85, 252, 230,  25,   0,   0,   0,\n",
              "          0,   0,   0,   0,   0,   7, 135, 253, 186,  12,   0,   0,   0,\n",
              "          0,   0],\n",
              "       [  0,   0,   0,   0,   0,   0,  85, 252, 223,   0,   0,   0,   0,\n",
              "          0,   0,   0,   0,   7, 131, 252, 225,  71,   0,   0,   0,   0,\n",
              "          0,   0],\n",
              "       [  0,   0,   0,   0,   0,   0,  85, 252, 145,   0,   0,   0,   0,\n",
              "          0,   0,   0,  48, 165, 252, 173,   0,   0,   0,   0,   0,   0,\n",
              "          0,   0],\n",
              "       [  0,   0,   0,   0,   0,   0,  86, 253, 225,   0,   0,   0,   0,\n",
              "          0,   0, 114, 238, 253, 162,   0,   0,   0,   0,   0,   0,   0,\n",
              "          0,   0],\n",
              "       [  0,   0,   0,   0,   0,   0,  85, 252, 249, 146,  48,  29,  85,\n",
              "        178, 225, 253, 223, 167,  56,   0,   0,   0,   0,   0,   0,   0,\n",
              "          0,   0],\n",
              "       [  0,   0,   0,   0,   0,   0,  85, 252, 252, 252, 229, 215, 252,\n",
              "        252, 252, 196, 130,   0,   0,   0,   0,   0,   0,   0,   0,   0,\n",
              "          0,   0],\n",
              "       [  0,   0,   0,   0,   0,   0,  28, 199, 252, 252, 253, 252, 252,\n",
              "        233, 145,   0,   0,   0,   0,   0,   0,   0,   0,   0,   0,   0,\n",
              "          0,   0],\n",
              "       [  0,   0,   0,   0,   0,   0,   0,  25, 128, 252, 253, 252, 141,\n",
              "         37,   0,   0,   0,   0,   0,   0,   0,   0,   0,   0,   0,   0,\n",
              "          0,   0],\n",
              "       [  0,   0,   0,   0,   0,   0,   0,   0,   0,   0,   0,   0,   0,\n",
              "          0,   0,   0,   0,   0,   0,   0,   0,   0,   0,   0,   0,   0,\n",
              "          0,   0],\n",
              "       [  0,   0,   0,   0,   0,   0,   0,   0,   0,   0,   0,   0,   0,\n",
              "          0,   0,   0,   0,   0,   0,   0,   0,   0,   0,   0,   0,   0,\n",
              "          0,   0],\n",
              "       [  0,   0,   0,   0,   0,   0,   0,   0,   0,   0,   0,   0,   0,\n",
              "          0,   0,   0,   0,   0,   0,   0,   0,   0,   0,   0,   0,   0,\n",
              "          0,   0],\n",
              "       [  0,   0,   0,   0,   0,   0,   0,   0,   0,   0,   0,   0,   0,\n",
              "          0,   0,   0,   0,   0,   0,   0,   0,   0,   0,   0,   0,   0,\n",
              "          0,   0]], dtype=uint8)"
            ]
          },
          "metadata": {},
          "execution_count": 45
        }
      ],
      "source": [
        "X_train[1]"
      ]
    },
    {
      "cell_type": "code",
      "execution_count": null,
      "metadata": {
        "id": "fE7WmxFKsGhM"
      },
      "outputs": [],
      "source": [
        "X_train = X_train.reshape(60000,784)\n",
        "X_test = X_test.reshape(10000,784)\n",
        "\n",
        "#type convert\n",
        "X_train = X_train.astype('float32')\n",
        "X_test = X_test.astype('float32')\n",
        "\n",
        "#nomorlization \n",
        "X_train /=255\n",
        "X_test /= 255"
      ]
    },
    {
      "cell_type": "code",
      "execution_count": null,
      "metadata": {
        "colab": {
          "base_uri": "https://localhost:8080/"
        },
        "id": "c4lvn7BMJw_Z",
        "outputId": "c789a545-66e1-431d-d50a-d965e9d46775"
      },
      "outputs": [
        {
          "output_type": "execute_result",
          "data": {
            "text/plain": [
              "array([0.        , 0.        , 0.        , 0.        , 0.        ,\n",
              "       0.        , 0.        , 0.        , 0.        , 0.        ,\n",
              "       0.        , 0.        , 0.        , 0.        , 0.        ,\n",
              "       0.        , 0.        , 0.        , 0.        , 0.        ,\n",
              "       0.        , 0.        , 0.        , 0.        , 0.        ,\n",
              "       0.        , 0.        , 0.        , 0.        , 0.        ,\n",
              "       0.        , 0.        , 0.        , 0.        , 0.        ,\n",
              "       0.        , 0.        , 0.        , 0.        , 0.        ,\n",
              "       0.        , 0.        , 0.        , 0.        , 0.        ,\n",
              "       0.        , 0.        , 0.        , 0.        , 0.        ,\n",
              "       0.        , 0.        , 0.        , 0.        , 0.        ,\n",
              "       0.        , 0.        , 0.        , 0.        , 0.        ,\n",
              "       0.        , 0.        , 0.        , 0.        , 0.        ,\n",
              "       0.        , 0.        , 0.        , 0.        , 0.        ,\n",
              "       0.        , 0.        , 0.        , 0.        , 0.        ,\n",
              "       0.        , 0.        , 0.        , 0.        , 0.        ,\n",
              "       0.        , 0.        , 0.        , 0.        , 0.        ,\n",
              "       0.        , 0.        , 0.        , 0.        , 0.        ,\n",
              "       0.        , 0.        , 0.        , 0.        , 0.        ,\n",
              "       0.        , 0.        , 0.        , 0.        , 0.        ,\n",
              "       0.        , 0.        , 0.        , 0.        , 0.        ,\n",
              "       0.        , 0.        , 0.        , 0.        , 0.        ,\n",
              "       0.        , 0.        , 0.        , 0.        , 0.        ,\n",
              "       0.        , 0.        , 0.        , 0.        , 0.        ,\n",
              "       0.        , 0.        , 0.        , 0.        , 0.        ,\n",
              "       0.        , 0.        , 0.2       , 0.62352943, 0.99215686,\n",
              "       0.62352943, 0.19607843, 0.        , 0.        , 0.        ,\n",
              "       0.        , 0.        , 0.        , 0.        , 0.        ,\n",
              "       0.        , 0.        , 0.        , 0.        , 0.        ,\n",
              "       0.        , 0.        , 0.        , 0.        , 0.        ,\n",
              "       0.        , 0.        , 0.        , 0.        , 0.1882353 ,\n",
              "       0.93333334, 0.9882353 , 0.9882353 , 0.9882353 , 0.92941177,\n",
              "       0.        , 0.        , 0.        , 0.        , 0.        ,\n",
              "       0.        , 0.        , 0.        , 0.        , 0.        ,\n",
              "       0.        , 0.        , 0.        , 0.        , 0.        ,\n",
              "       0.        , 0.        , 0.        , 0.        , 0.        ,\n",
              "       0.        , 0.21176471, 0.8901961 , 0.99215686, 0.9882353 ,\n",
              "       0.9372549 , 0.9137255 , 0.9882353 , 0.22352941, 0.02352941,\n",
              "       0.        , 0.        , 0.        , 0.        , 0.        ,\n",
              "       0.        , 0.        , 0.        , 0.        , 0.        ,\n",
              "       0.        , 0.        , 0.        , 0.        , 0.        ,\n",
              "       0.        , 0.        , 0.03921569, 0.23529412, 0.8784314 ,\n",
              "       0.9882353 , 0.99215686, 0.9882353 , 0.7921569 , 0.32941177,\n",
              "       0.9882353 , 0.99215686, 0.47843137, 0.        , 0.        ,\n",
              "       0.        , 0.        , 0.        , 0.        , 0.        ,\n",
              "       0.        , 0.        , 0.        , 0.        , 0.        ,\n",
              "       0.        , 0.        , 0.        , 0.        , 0.        ,\n",
              "       0.6392157 , 0.9882353 , 0.9882353 , 0.9882353 , 0.99215686,\n",
              "       0.9882353 , 0.9882353 , 0.3764706 , 0.7411765 , 0.99215686,\n",
              "       0.654902  , 0.        , 0.        , 0.        , 0.        ,\n",
              "       0.        , 0.        , 0.        , 0.        , 0.        ,\n",
              "       0.        , 0.        , 0.        , 0.        , 0.        ,\n",
              "       0.        , 0.        , 0.2       , 0.93333334, 0.99215686,\n",
              "       0.99215686, 0.74509805, 0.44705883, 0.99215686, 0.89411765,\n",
              "       0.18431373, 0.30980393, 1.        , 0.65882355, 0.        ,\n",
              "       0.        , 0.        , 0.        , 0.        , 0.        ,\n",
              "       0.        , 0.        , 0.        , 0.        , 0.        ,\n",
              "       0.        , 0.        , 0.        , 0.        , 0.1882353 ,\n",
              "       0.93333334, 0.9882353 , 0.9882353 , 0.7019608 , 0.04705882,\n",
              "       0.29411766, 0.4745098 , 0.08235294, 0.        , 0.        ,\n",
              "       0.99215686, 0.9529412 , 0.19607843, 0.        , 0.        ,\n",
              "       0.        , 0.        , 0.        , 0.        , 0.        ,\n",
              "       0.        , 0.        , 0.        , 0.        , 0.        ,\n",
              "       0.        , 0.14901961, 0.64705884, 0.99215686, 0.9137255 ,\n",
              "       0.8156863 , 0.32941177, 0.        , 0.        , 0.        ,\n",
              "       0.        , 0.        , 0.        , 0.99215686, 0.9882353 ,\n",
              "       0.64705884, 0.        , 0.        , 0.        , 0.        ,\n",
              "       0.        , 0.        , 0.        , 0.        , 0.        ,\n",
              "       0.        , 0.        , 0.        , 0.02745098, 0.69803923,\n",
              "       0.9882353 , 0.9411765 , 0.2784314 , 0.07450981, 0.10980392,\n",
              "       0.        , 0.        , 0.        , 0.        , 0.        ,\n",
              "       0.        , 0.99215686, 0.9882353 , 0.7647059 , 0.        ,\n",
              "       0.        , 0.        , 0.        , 0.        , 0.        ,\n",
              "       0.        , 0.        , 0.        , 0.        , 0.        ,\n",
              "       0.        , 0.22352941, 0.9882353 , 0.9882353 , 0.24705882,\n",
              "       0.        , 0.        , 0.        , 0.        , 0.        ,\n",
              "       0.        , 0.        , 0.        , 0.        , 0.99215686,\n",
              "       0.9882353 , 0.7647059 , 0.        , 0.        , 0.        ,\n",
              "       0.        , 0.        , 0.        , 0.        , 0.        ,\n",
              "       0.        , 0.        , 0.        , 0.        , 0.7764706 ,\n",
              "       0.99215686, 0.74509805, 0.        , 0.        , 0.        ,\n",
              "       0.        , 0.        , 0.        , 0.        , 0.        ,\n",
              "       0.        , 0.        , 1.        , 0.99215686, 0.76862746,\n",
              "       0.        , 0.        , 0.        , 0.        , 0.        ,\n",
              "       0.        , 0.        , 0.        , 0.        , 0.        ,\n",
              "       0.        , 0.29803923, 0.9647059 , 0.9882353 , 0.4392157 ,\n",
              "       0.        , 0.        , 0.        , 0.        , 0.        ,\n",
              "       0.        , 0.        , 0.        , 0.        , 0.        ,\n",
              "       0.99215686, 0.9882353 , 0.5803922 , 0.        , 0.        ,\n",
              "       0.        , 0.        , 0.        , 0.        , 0.        ,\n",
              "       0.        , 0.        , 0.        , 0.        , 0.33333334,\n",
              "       0.9882353 , 0.9019608 , 0.09803922, 0.        , 0.        ,\n",
              "       0.        , 0.        , 0.        , 0.        , 0.        ,\n",
              "       0.        , 0.02745098, 0.5294118 , 0.99215686, 0.7294118 ,\n",
              "       0.04705882, 0.        , 0.        , 0.        , 0.        ,\n",
              "       0.        , 0.        , 0.        , 0.        , 0.        ,\n",
              "       0.        , 0.        , 0.33333334, 0.9882353 , 0.8745098 ,\n",
              "       0.        , 0.        , 0.        , 0.        , 0.        ,\n",
              "       0.        , 0.        , 0.        , 0.02745098, 0.5137255 ,\n",
              "       0.9882353 , 0.88235295, 0.2784314 , 0.        , 0.        ,\n",
              "       0.        , 0.        , 0.        , 0.        , 0.        ,\n",
              "       0.        , 0.        , 0.        , 0.        , 0.        ,\n",
              "       0.33333334, 0.9882353 , 0.5686275 , 0.        , 0.        ,\n",
              "       0.        , 0.        , 0.        , 0.        , 0.        ,\n",
              "       0.1882353 , 0.64705884, 0.9882353 , 0.6784314 , 0.        ,\n",
              "       0.        , 0.        , 0.        , 0.        , 0.        ,\n",
              "       0.        , 0.        , 0.        , 0.        , 0.        ,\n",
              "       0.        , 0.        , 0.        , 0.3372549 , 0.99215686,\n",
              "       0.88235295, 0.        , 0.        , 0.        , 0.        ,\n",
              "       0.        , 0.        , 0.44705883, 0.93333334, 0.99215686,\n",
              "       0.63529414, 0.        , 0.        , 0.        , 0.        ,\n",
              "       0.        , 0.        , 0.        , 0.        , 0.        ,\n",
              "       0.        , 0.        , 0.        , 0.        , 0.        ,\n",
              "       0.        , 0.33333334, 0.9882353 , 0.9764706 , 0.57254905,\n",
              "       0.1882353 , 0.11372549, 0.33333334, 0.69803923, 0.88235295,\n",
              "       0.99215686, 0.8745098 , 0.654902  , 0.21960784, 0.        ,\n",
              "       0.        , 0.        , 0.        , 0.        , 0.        ,\n",
              "       0.        , 0.        , 0.        , 0.        , 0.        ,\n",
              "       0.        , 0.        , 0.        , 0.        , 0.33333334,\n",
              "       0.9882353 , 0.9882353 , 0.9882353 , 0.8980392 , 0.84313726,\n",
              "       0.9882353 , 0.9882353 , 0.9882353 , 0.76862746, 0.50980395,\n",
              "       0.        , 0.        , 0.        , 0.        , 0.        ,\n",
              "       0.        , 0.        , 0.        , 0.        , 0.        ,\n",
              "       0.        , 0.        , 0.        , 0.        , 0.        ,\n",
              "       0.        , 0.        , 0.10980392, 0.78039217, 0.9882353 ,\n",
              "       0.9882353 , 0.99215686, 0.9882353 , 0.9882353 , 0.9137255 ,\n",
              "       0.5686275 , 0.        , 0.        , 0.        , 0.        ,\n",
              "       0.        , 0.        , 0.        , 0.        , 0.        ,\n",
              "       0.        , 0.        , 0.        , 0.        , 0.        ,\n",
              "       0.        , 0.        , 0.        , 0.        , 0.        ,\n",
              "       0.        , 0.09803922, 0.5019608 , 0.9882353 , 0.99215686,\n",
              "       0.9882353 , 0.5529412 , 0.14509805, 0.        , 0.        ,\n",
              "       0.        , 0.        , 0.        , 0.        , 0.        ,\n",
              "       0.        , 0.        , 0.        , 0.        , 0.        ,\n",
              "       0.        , 0.        , 0.        , 0.        , 0.        ,\n",
              "       0.        , 0.        , 0.        , 0.        , 0.        ,\n",
              "       0.        , 0.        , 0.        , 0.        , 0.        ,\n",
              "       0.        , 0.        , 0.        , 0.        , 0.        ,\n",
              "       0.        , 0.        , 0.        , 0.        , 0.        ,\n",
              "       0.        , 0.        , 0.        , 0.        , 0.        ,\n",
              "       0.        , 0.        , 0.        , 0.        , 0.        ,\n",
              "       0.        , 0.        , 0.        , 0.        , 0.        ,\n",
              "       0.        , 0.        , 0.        , 0.        , 0.        ,\n",
              "       0.        , 0.        , 0.        , 0.        , 0.        ,\n",
              "       0.        , 0.        , 0.        , 0.        , 0.        ,\n",
              "       0.        , 0.        , 0.        , 0.        , 0.        ,\n",
              "       0.        , 0.        , 0.        , 0.        , 0.        ,\n",
              "       0.        , 0.        , 0.        , 0.        , 0.        ,\n",
              "       0.        , 0.        , 0.        , 0.        , 0.        ,\n",
              "       0.        , 0.        , 0.        , 0.        , 0.        ,\n",
              "       0.        , 0.        , 0.        , 0.        , 0.        ,\n",
              "       0.        , 0.        , 0.        , 0.        , 0.        ,\n",
              "       0.        , 0.        , 0.        , 0.        , 0.        ,\n",
              "       0.        , 0.        , 0.        , 0.        , 0.        ,\n",
              "       0.        , 0.        , 0.        , 0.        , 0.        ,\n",
              "       0.        , 0.        , 0.        , 0.        , 0.        ,\n",
              "       0.        , 0.        , 0.        , 0.        ], dtype=float32)"
            ]
          },
          "metadata": {},
          "execution_count": 47
        }
      ],
      "source": [
        "#reshape 2d array to 1d array: vector\n",
        "X_train[1]"
      ]
    },
    {
      "cell_type": "code",
      "execution_count": null,
      "metadata": {
        "colab": {
          "base_uri": "https://localhost:8080/"
        },
        "id": "pUxye_EjsGj-",
        "outputId": "69cd40ac-8c52-46e8-efb1-ed7ffc0d499c"
      },
      "outputs": [
        {
          "output_type": "stream",
          "name": "stdout",
          "text": [
            "[[2 2]\n",
            " [2 3]]\n",
            "[2 2 2 3]\n",
            "(2, 2)\n",
            "(4,)\n"
          ]
        }
      ],
      "source": [
        "x=[[2,2],\n",
        "   [2,3]]\n",
        "print(np.array(x))\n",
        "print(np.array(x).reshape(4))\n",
        "print(np.array(x).shape)\n",
        "print(np.array(x).reshape(4).shape)"
      ]
    },
    {
      "cell_type": "markdown",
      "metadata": {
        "id": "NxMPfOvxKgTR"
      },
      "source": [
        "### Prepare y label: one hot encoding"
      ]
    },
    {
      "cell_type": "code",
      "source": [
        "y_train"
      ],
      "metadata": {
        "colab": {
          "base_uri": "https://localhost:8080/"
        },
        "id": "uqP0hwSXnJtc",
        "outputId": "2fdad10c-43d3-4b24-99e2-3e58f0e743fb"
      },
      "execution_count": null,
      "outputs": [
        {
          "output_type": "execute_result",
          "data": {
            "text/plain": [
              "array([5, 0, 4, ..., 5, 6, 8], dtype=uint8)"
            ]
          },
          "metadata": {},
          "execution_count": 49
        }
      ]
    },
    {
      "cell_type": "code",
      "execution_count": null,
      "metadata": {
        "colab": {
          "base_uri": "https://localhost:8080/"
        },
        "id": "4VsS_macKknC",
        "outputId": "4dff163c-2860-47e7-b7bb-fb0767e7c3ef"
      },
      "outputs": [
        {
          "output_type": "execute_result",
          "data": {
            "text/plain": [
              "(60000, 10)"
            ]
          },
          "metadata": {},
          "execution_count": 50
        }
      ],
      "source": [
        "y_train = utils.to_categorical(y_train,nb_classes)\n",
        "y_train.shape\n",
        " "
      ]
    },
    {
      "cell_type": "code",
      "source": [
        "y_test = utils.to_categorical(y_test,nb_classes)\n",
        "y_test"
      ],
      "metadata": {
        "colab": {
          "base_uri": "https://localhost:8080/"
        },
        "id": "pCxOKF9yn2rZ",
        "outputId": "fdd7bcad-c8e7-47d1-92ea-f145d619c4e8"
      },
      "execution_count": null,
      "outputs": [
        {
          "output_type": "execute_result",
          "data": {
            "text/plain": [
              "array([[0., 0., 0., ..., 1., 0., 0.],\n",
              "       [0., 0., 1., ..., 0., 0., 0.],\n",
              "       [0., 1., 0., ..., 0., 0., 0.],\n",
              "       ...,\n",
              "       [0., 0., 0., ..., 0., 0., 0.],\n",
              "       [0., 0., 0., ..., 0., 0., 0.],\n",
              "       [0., 0., 0., ..., 0., 0., 0.]], dtype=float32)"
            ]
          },
          "metadata": {},
          "execution_count": 51
        }
      ]
    },
    {
      "cell_type": "markdown",
      "metadata": {
        "id": "fFaV074Brmhb"
      },
      "source": [
        "## 3. Modelling"
      ]
    },
    {
      "cell_type": "code",
      "execution_count": null,
      "metadata": {
        "colab": {
          "base_uri": "https://localhost:8080/"
        },
        "id": "4ULSTkjiRL8C",
        "outputId": "0576df4e-e818-49c8-940b-d21ada4067b9"
      },
      "outputs": [
        {
          "output_type": "stream",
          "name": "stdout",
          "text": [
            "(60000, 784)\n",
            "(60000, 10)\n",
            "(10000, 784)\n",
            "(10000, 10)\n"
          ]
        }
      ],
      "source": [
        "print(X_train.shape)\n",
        "print(y_train.shape)\n",
        "print(X_test.shape)\n",
        "print(y_test.shape)"
      ]
    },
    {
      "cell_type": "code",
      "execution_count": null,
      "metadata": {
        "id": "7080mMOTMDnK"
      },
      "outputs": [],
      "source": [
        "model = Sequential()\n",
        "model.add(Dense(512, input_shape=(784,)))\n",
        "model.add(Activation('relu'))\n",
        "model.add(Dropout(0.2))\n",
        "model.add(Dense(512,kernel_regularizer = regularizers.l2(0.001)))\n",
        "model.add(BatchNormalization())\n",
        "model.add(Activation('relu'))\n",
        "model.add(Dropout(0.2))\n",
        "model.add(Dense(10))\n",
        "model.add(Activation('softmax'))"
      ]
    },
    {
      "cell_type": "code",
      "execution_count": null,
      "metadata": {
        "colab": {
          "base_uri": "https://localhost:8080/"
        },
        "id": "gYas-l3GOKMf",
        "outputId": "d2f94551-49ff-4f0d-a360-dd253a0bb656"
      },
      "outputs": [
        {
          "output_type": "stream",
          "name": "stdout",
          "text": [
            "Model: \"sequential\"\n",
            "_________________________________________________________________\n",
            " Layer (type)                Output Shape              Param #   \n",
            "=================================================================\n",
            " dense (Dense)               (None, 512)               401920    \n",
            "                                                                 \n",
            " activation (Activation)     (None, 512)               0         \n",
            "                                                                 \n",
            " dropout (Dropout)           (None, 512)               0         \n",
            "                                                                 \n",
            " dense_1 (Dense)             (None, 512)               262656    \n",
            "                                                                 \n",
            " batch_normalization (BatchN  (None, 512)              2048      \n",
            " ormalization)                                                   \n",
            "                                                                 \n",
            " activation_1 (Activation)   (None, 512)               0         \n",
            "                                                                 \n",
            " dropout_1 (Dropout)         (None, 512)               0         \n",
            "                                                                 \n",
            " dense_2 (Dense)             (None, 10)                5130      \n",
            "                                                                 \n",
            " activation_2 (Activation)   (None, 10)                0         \n",
            "                                                                 \n",
            "=================================================================\n",
            "Total params: 671,754\n",
            "Trainable params: 670,730\n",
            "Non-trainable params: 1,024\n",
            "_________________________________________________________________\n"
          ]
        }
      ],
      "source": [
        "model.summary()"
      ]
    },
    {
      "cell_type": "code",
      "execution_count": null,
      "metadata": {
        "id": "CaeLWiXdP8e4"
      },
      "outputs": [],
      "source": [
        "model.compile( loss='categorical_crossentropy', optimizer='adam', metrics = ['accuracy'])"
      ]
    },
    {
      "cell_type": "markdown",
      "metadata": {
        "id": "uIh01wm4rma1"
      },
      "source": [
        "## 4. Training Model"
      ]
    },
    {
      "cell_type": "code",
      "execution_count": null,
      "metadata": {
        "colab": {
          "base_uri": "https://localhost:8080/"
        },
        "id": "q2kSFqfNORX4",
        "outputId": "e246598a-d734-44c9-8c64-f1d0f1b8cc65"
      },
      "outputs": [
        {
          "output_type": "stream",
          "name": "stdout",
          "text": [
            "Epoch 1/100\n",
            "469/469 [==============================] - 9s 18ms/step - loss: 0.5217 - accuracy: 0.9309 - val_loss: 0.2625 - val_accuracy: 0.9668\n",
            "Epoch 2/100\n",
            "469/469 [==============================] - 8s 17ms/step - loss: 0.2162 - accuracy: 0.9658 - val_loss: 0.1657 - val_accuracy: 0.9723\n",
            "Epoch 3/100\n",
            "469/469 [==============================] - 9s 18ms/step - loss: 0.1555 - accuracy: 0.9723 - val_loss: 0.1493 - val_accuracy: 0.9717\n",
            "Epoch 4/100\n",
            "469/469 [==============================] - 9s 18ms/step - loss: 0.1325 - accuracy: 0.9762 - val_loss: 0.1337 - val_accuracy: 0.9763\n",
            "Epoch 5/100\n",
            "469/469 [==============================] - 8s 17ms/step - loss: 0.1189 - accuracy: 0.9794 - val_loss: 0.1337 - val_accuracy: 0.9758\n",
            "Epoch 6/100\n",
            "469/469 [==============================] - 8s 17ms/step - loss: 0.1127 - accuracy: 0.9811 - val_loss: 0.1275 - val_accuracy: 0.9767\n",
            "Epoch 7/100\n",
            "469/469 [==============================] - 11s 23ms/step - loss: 0.1102 - accuracy: 0.9826 - val_loss: 0.1310 - val_accuracy: 0.9769\n",
            "Epoch 8/100\n",
            "469/469 [==============================] - 10s 21ms/step - loss: 0.1037 - accuracy: 0.9835 - val_loss: 0.1255 - val_accuracy: 0.9791\n",
            "Epoch 9/100\n",
            "469/469 [==============================] - 8s 17ms/step - loss: 0.0989 - accuracy: 0.9844 - val_loss: 0.1224 - val_accuracy: 0.9791\n",
            "Epoch 10/100\n",
            "469/469 [==============================] - 8s 17ms/step - loss: 0.0946 - accuracy: 0.9850 - val_loss: 0.1364 - val_accuracy: 0.9750\n",
            "Epoch 11/100\n",
            "469/469 [==============================] - 8s 17ms/step - loss: 0.0937 - accuracy: 0.9856 - val_loss: 0.1184 - val_accuracy: 0.9813\n",
            "Epoch 12/100\n",
            "469/469 [==============================] - 8s 17ms/step - loss: 0.0874 - accuracy: 0.9873 - val_loss: 0.1180 - val_accuracy: 0.9784\n",
            "Epoch 13/100\n",
            "469/469 [==============================] - 8s 17ms/step - loss: 0.0882 - accuracy: 0.9871 - val_loss: 0.1168 - val_accuracy: 0.9818\n",
            "Epoch 14/100\n",
            "469/469 [==============================] - 8s 17ms/step - loss: 0.0849 - accuracy: 0.9878 - val_loss: 0.1306 - val_accuracy: 0.9810\n",
            "Epoch 15/100\n",
            "469/469 [==============================] - 8s 17ms/step - loss: 0.0818 - accuracy: 0.9885 - val_loss: 0.1179 - val_accuracy: 0.9816\n",
            "Epoch 16/100\n",
            "469/469 [==============================] - 8s 17ms/step - loss: 0.0812 - accuracy: 0.9885 - val_loss: 0.1186 - val_accuracy: 0.9805\n",
            "Epoch 17/100\n",
            "469/469 [==============================] - 8s 17ms/step - loss: 0.0793 - accuracy: 0.9894 - val_loss: 0.1280 - val_accuracy: 0.9777\n",
            "Epoch 18/100\n",
            "469/469 [==============================] - 8s 18ms/step - loss: 0.0798 - accuracy: 0.9893 - val_loss: 0.1264 - val_accuracy: 0.9790\n",
            "Epoch 19/100\n",
            "469/469 [==============================] - 8s 17ms/step - loss: 0.0740 - accuracy: 0.9900 - val_loss: 0.1296 - val_accuracy: 0.9800\n",
            "Epoch 20/100\n",
            "469/469 [==============================] - 8s 17ms/step - loss: 0.0747 - accuracy: 0.9901 - val_loss: 0.1227 - val_accuracy: 0.9818\n",
            "Epoch 21/100\n",
            "469/469 [==============================] - 8s 17ms/step - loss: 0.0740 - accuracy: 0.9900 - val_loss: 0.1177 - val_accuracy: 0.9803\n",
            "Epoch 22/100\n",
            "469/469 [==============================] - 8s 17ms/step - loss: 0.0705 - accuracy: 0.9905 - val_loss: 0.1160 - val_accuracy: 0.9834\n",
            "Epoch 23/100\n",
            "469/469 [==============================] - 8s 17ms/step - loss: 0.0696 - accuracy: 0.9910 - val_loss: 0.1096 - val_accuracy: 0.9832\n",
            "Epoch 24/100\n",
            "469/469 [==============================] - 8s 17ms/step - loss: 0.0663 - accuracy: 0.9915 - val_loss: 0.1231 - val_accuracy: 0.9803\n",
            "Epoch 25/100\n",
            "469/469 [==============================] - 8s 17ms/step - loss: 0.0674 - accuracy: 0.9915 - val_loss: 0.1047 - val_accuracy: 0.9837\n",
            "Epoch 26/100\n",
            "469/469 [==============================] - 8s 16ms/step - loss: 0.0645 - accuracy: 0.9918 - val_loss: 0.1103 - val_accuracy: 0.9810\n",
            "Epoch 27/100\n",
            "469/469 [==============================] - 8s 16ms/step - loss: 0.0599 - accuracy: 0.9930 - val_loss: 0.1069 - val_accuracy: 0.9822\n",
            "Epoch 28/100\n",
            "469/469 [==============================] - 8s 16ms/step - loss: 0.0629 - accuracy: 0.9917 - val_loss: 0.1107 - val_accuracy: 0.9817\n",
            "Epoch 29/100\n",
            "469/469 [==============================] - 8s 16ms/step - loss: 0.0600 - accuracy: 0.9930 - val_loss: 0.1072 - val_accuracy: 0.9816\n",
            "Epoch 30/100\n",
            "469/469 [==============================] - 8s 16ms/step - loss: 0.0615 - accuracy: 0.9917 - val_loss: 0.1109 - val_accuracy: 0.9813\n",
            "Epoch 31/100\n",
            "469/469 [==============================] - 8s 17ms/step - loss: 0.0606 - accuracy: 0.9926 - val_loss: 0.1189 - val_accuracy: 0.9799\n",
            "Epoch 32/100\n",
            "469/469 [==============================] - 8s 17ms/step - loss: 0.0564 - accuracy: 0.9932 - val_loss: 0.1181 - val_accuracy: 0.9798\n",
            "Epoch 33/100\n",
            "469/469 [==============================] - 8s 17ms/step - loss: 0.0558 - accuracy: 0.9930 - val_loss: 0.1187 - val_accuracy: 0.9812\n",
            "Epoch 34/100\n",
            "469/469 [==============================] - 9s 18ms/step - loss: 0.0560 - accuracy: 0.9928 - val_loss: 0.1034 - val_accuracy: 0.9822\n",
            "Epoch 35/100\n",
            "469/469 [==============================] - 8s 18ms/step - loss: 0.0518 - accuracy: 0.9936 - val_loss: 0.1092 - val_accuracy: 0.9817\n",
            "Epoch 36/100\n",
            "469/469 [==============================] - 8s 18ms/step - loss: 0.0549 - accuracy: 0.9936 - val_loss: 0.1026 - val_accuracy: 0.9821\n",
            "Epoch 37/100\n",
            "469/469 [==============================] - 8s 17ms/step - loss: 0.0531 - accuracy: 0.9936 - val_loss: 0.1074 - val_accuracy: 0.9813\n",
            "Epoch 38/100\n",
            "469/469 [==============================] - 8s 17ms/step - loss: 0.0476 - accuracy: 0.9948 - val_loss: 0.1086 - val_accuracy: 0.9821\n",
            "Epoch 39/100\n",
            "469/469 [==============================] - 8s 18ms/step - loss: 0.0522 - accuracy: 0.9933 - val_loss: 0.1073 - val_accuracy: 0.9814\n",
            "Epoch 40/100\n",
            "469/469 [==============================] - 8s 17ms/step - loss: 0.0510 - accuracy: 0.9940 - val_loss: 0.1019 - val_accuracy: 0.9831\n",
            "Epoch 41/100\n",
            "469/469 [==============================] - 8s 17ms/step - loss: 0.0520 - accuracy: 0.9936 - val_loss: 0.1018 - val_accuracy: 0.9839\n",
            "Epoch 42/100\n",
            "469/469 [==============================] - 8s 17ms/step - loss: 0.0485 - accuracy: 0.9943 - val_loss: 0.1069 - val_accuracy: 0.9822\n",
            "Epoch 43/100\n",
            "469/469 [==============================] - 8s 17ms/step - loss: 0.0480 - accuracy: 0.9942 - val_loss: 0.1050 - val_accuracy: 0.9828\n",
            "Epoch 44/100\n",
            "469/469 [==============================] - 8s 17ms/step - loss: 0.0485 - accuracy: 0.9943 - val_loss: 0.0976 - val_accuracy: 0.9841\n",
            "Epoch 45/100\n",
            "469/469 [==============================] - 8s 17ms/step - loss: 0.0444 - accuracy: 0.9950 - val_loss: 0.1048 - val_accuracy: 0.9834\n",
            "Epoch 46/100\n",
            "469/469 [==============================] - 8s 17ms/step - loss: 0.0465 - accuracy: 0.9941 - val_loss: 0.1061 - val_accuracy: 0.9827\n",
            "Epoch 47/100\n",
            "469/469 [==============================] - 8s 16ms/step - loss: 0.0452 - accuracy: 0.9948 - val_loss: 0.1072 - val_accuracy: 0.9811\n",
            "Epoch 48/100\n",
            "469/469 [==============================] - 8s 17ms/step - loss: 0.0473 - accuracy: 0.9941 - val_loss: 0.1093 - val_accuracy: 0.9821\n",
            "Epoch 49/100\n",
            "469/469 [==============================] - 8s 17ms/step - loss: 0.0435 - accuracy: 0.9951 - val_loss: 0.1069 - val_accuracy: 0.9815\n",
            "Epoch 50/100\n",
            "469/469 [==============================] - 8s 17ms/step - loss: 0.0421 - accuracy: 0.9951 - val_loss: 0.1028 - val_accuracy: 0.9816\n",
            "Epoch 51/100\n",
            "469/469 [==============================] - 8s 16ms/step - loss: 0.0442 - accuracy: 0.9948 - val_loss: 0.1012 - val_accuracy: 0.9830\n",
            "Epoch 52/100\n",
            "469/469 [==============================] - 8s 17ms/step - loss: 0.0429 - accuracy: 0.9950 - val_loss: 0.1095 - val_accuracy: 0.9832\n",
            "Epoch 53/100\n",
            "469/469 [==============================] - 8s 17ms/step - loss: 0.0420 - accuracy: 0.9954 - val_loss: 0.1015 - val_accuracy: 0.9822\n",
            "Epoch 54/100\n",
            "469/469 [==============================] - 8s 16ms/step - loss: 0.0430 - accuracy: 0.9951 - val_loss: 0.1046 - val_accuracy: 0.9827\n",
            "Epoch 55/100\n",
            "469/469 [==============================] - 8s 17ms/step - loss: 0.0407 - accuracy: 0.9954 - val_loss: 0.0992 - val_accuracy: 0.9828\n",
            "Epoch 56/100\n",
            "469/469 [==============================] - 8s 17ms/step - loss: 0.0413 - accuracy: 0.9949 - val_loss: 0.0994 - val_accuracy: 0.9834\n",
            "Epoch 57/100\n",
            "469/469 [==============================] - 8s 16ms/step - loss: 0.0376 - accuracy: 0.9956 - val_loss: 0.1116 - val_accuracy: 0.9833\n",
            "Epoch 58/100\n",
            "469/469 [==============================] - 8s 16ms/step - loss: 0.0405 - accuracy: 0.9955 - val_loss: 0.1062 - val_accuracy: 0.9816\n",
            "Epoch 59/100\n",
            "469/469 [==============================] - 8s 16ms/step - loss: 0.0408 - accuracy: 0.9951 - val_loss: 0.1078 - val_accuracy: 0.9832\n",
            "Epoch 60/100\n",
            "469/469 [==============================] - 8s 16ms/step - loss: 0.0395 - accuracy: 0.9953 - val_loss: 0.1012 - val_accuracy: 0.9831\n",
            "Epoch 61/100\n",
            "469/469 [==============================] - 8s 16ms/step - loss: 0.0394 - accuracy: 0.9951 - val_loss: 0.1116 - val_accuracy: 0.9829\n",
            "Epoch 62/100\n",
            "469/469 [==============================] - 8s 16ms/step - loss: 0.0374 - accuracy: 0.9962 - val_loss: 0.0919 - val_accuracy: 0.9846\n",
            "Epoch 63/100\n",
            "469/469 [==============================] - 8s 17ms/step - loss: 0.0355 - accuracy: 0.9961 - val_loss: 0.1046 - val_accuracy: 0.9831\n",
            "Epoch 64/100\n",
            "469/469 [==============================] - 8s 17ms/step - loss: 0.0394 - accuracy: 0.9951 - val_loss: 0.1011 - val_accuracy: 0.9831\n",
            "Epoch 65/100\n",
            "469/469 [==============================] - 8s 16ms/step - loss: 0.0370 - accuracy: 0.9960 - val_loss: 0.1047 - val_accuracy: 0.9830\n",
            "Epoch 66/100\n",
            "469/469 [==============================] - 8s 16ms/step - loss: 0.0371 - accuracy: 0.9957 - val_loss: 0.1133 - val_accuracy: 0.9812\n",
            "Epoch 67/100\n",
            "469/469 [==============================] - 8s 17ms/step - loss: 0.0388 - accuracy: 0.9956 - val_loss: 0.0995 - val_accuracy: 0.9854\n",
            "Epoch 68/100\n",
            "469/469 [==============================] - 8s 17ms/step - loss: 0.0383 - accuracy: 0.9956 - val_loss: 0.1093 - val_accuracy: 0.9827\n",
            "Epoch 69/100\n",
            "469/469 [==============================] - 8s 17ms/step - loss: 0.0356 - accuracy: 0.9963 - val_loss: 0.1075 - val_accuracy: 0.9815\n",
            "Epoch 70/100\n",
            "469/469 [==============================] - 8s 17ms/step - loss: 0.0381 - accuracy: 0.9955 - val_loss: 0.1050 - val_accuracy: 0.9835\n",
            "Epoch 71/100\n",
            "469/469 [==============================] - 8s 17ms/step - loss: 0.0336 - accuracy: 0.9966 - val_loss: 0.1082 - val_accuracy: 0.9825\n",
            "Epoch 72/100\n",
            "469/469 [==============================] - 8s 17ms/step - loss: 0.0379 - accuracy: 0.9953 - val_loss: 0.1061 - val_accuracy: 0.9840\n",
            "Epoch 73/100\n",
            "469/469 [==============================] - 8s 17ms/step - loss: 0.0337 - accuracy: 0.9963 - val_loss: 0.1039 - val_accuracy: 0.9833\n",
            "Epoch 74/100\n",
            "469/469 [==============================] - 8s 16ms/step - loss: 0.0343 - accuracy: 0.9960 - val_loss: 0.1003 - val_accuracy: 0.9836\n",
            "Epoch 75/100\n",
            "469/469 [==============================] - 8s 17ms/step - loss: 0.0345 - accuracy: 0.9962 - val_loss: 0.1107 - val_accuracy: 0.9822\n",
            "Epoch 76/100\n",
            "469/469 [==============================] - 8s 17ms/step - loss: 0.0341 - accuracy: 0.9963 - val_loss: 0.1012 - val_accuracy: 0.9843\n",
            "Epoch 77/100\n",
            "469/469 [==============================] - 8s 17ms/step - loss: 0.0351 - accuracy: 0.9962 - val_loss: 0.1072 - val_accuracy: 0.9848\n",
            "Epoch 78/100\n",
            "469/469 [==============================] - 8s 17ms/step - loss: 0.0353 - accuracy: 0.9959 - val_loss: 0.1002 - val_accuracy: 0.9830\n",
            "Epoch 79/100\n",
            "469/469 [==============================] - 8s 17ms/step - loss: 0.0327 - accuracy: 0.9962 - val_loss: 0.1062 - val_accuracy: 0.9828\n",
            "Epoch 80/100\n",
            "469/469 [==============================] - 8s 17ms/step - loss: 0.0323 - accuracy: 0.9966 - val_loss: 0.1019 - val_accuracy: 0.9828\n",
            "Epoch 81/100\n",
            "469/469 [==============================] - 8s 17ms/step - loss: 0.0348 - accuracy: 0.9960 - val_loss: 0.1081 - val_accuracy: 0.9840\n",
            "Epoch 82/100\n",
            "469/469 [==============================] - 8s 17ms/step - loss: 0.0342 - accuracy: 0.9961 - val_loss: 0.1044 - val_accuracy: 0.9836\n",
            "Epoch 83/100\n",
            "469/469 [==============================] - 8s 17ms/step - loss: 0.0333 - accuracy: 0.9962 - val_loss: 0.1124 - val_accuracy: 0.9832\n",
            "Epoch 84/100\n",
            "469/469 [==============================] - 8s 17ms/step - loss: 0.0340 - accuracy: 0.9964 - val_loss: 0.1009 - val_accuracy: 0.9839\n",
            "Epoch 85/100\n",
            "469/469 [==============================] - 8s 17ms/step - loss: 0.0340 - accuracy: 0.9961 - val_loss: 0.0993 - val_accuracy: 0.9843\n",
            "Epoch 86/100\n",
            "469/469 [==============================] - 8s 17ms/step - loss: 0.0319 - accuracy: 0.9965 - val_loss: 0.1002 - val_accuracy: 0.9819\n",
            "Epoch 87/100\n",
            "469/469 [==============================] - 8s 17ms/step - loss: 0.0305 - accuracy: 0.9965 - val_loss: 0.1143 - val_accuracy: 0.9816\n",
            "Epoch 88/100\n",
            "469/469 [==============================] - 8s 16ms/step - loss: 0.0318 - accuracy: 0.9966 - val_loss: 0.1007 - val_accuracy: 0.9837\n",
            "Epoch 89/100\n",
            "469/469 [==============================] - 8s 16ms/step - loss: 0.0326 - accuracy: 0.9965 - val_loss: 0.1006 - val_accuracy: 0.9833\n",
            "Epoch 90/100\n",
            "469/469 [==============================] - 8s 17ms/step - loss: 0.0300 - accuracy: 0.9969 - val_loss: 0.1033 - val_accuracy: 0.9841\n",
            "Epoch 91/100\n",
            "469/469 [==============================] - 8s 17ms/step - loss: 0.0304 - accuracy: 0.9967 - val_loss: 0.1166 - val_accuracy: 0.9826\n",
            "Epoch 92/100\n",
            "469/469 [==============================] - 8s 17ms/step - loss: 0.0309 - accuracy: 0.9966 - val_loss: 0.1056 - val_accuracy: 0.9832\n",
            "Epoch 93/100\n",
            "469/469 [==============================] - 8s 17ms/step - loss: 0.0318 - accuracy: 0.9965 - val_loss: 0.1056 - val_accuracy: 0.9838\n",
            "Epoch 94/100\n",
            "469/469 [==============================] - 8s 17ms/step - loss: 0.0304 - accuracy: 0.9970 - val_loss: 0.1065 - val_accuracy: 0.9826\n",
            "Epoch 95/100\n",
            "469/469 [==============================] - 8s 17ms/step - loss: 0.0326 - accuracy: 0.9960 - val_loss: 0.1136 - val_accuracy: 0.9836\n",
            "Epoch 96/100\n",
            "469/469 [==============================] - 8s 17ms/step - loss: 0.0330 - accuracy: 0.9965 - val_loss: 0.1019 - val_accuracy: 0.9850\n",
            "Epoch 97/100\n",
            "469/469 [==============================] - 8s 17ms/step - loss: 0.0290 - accuracy: 0.9971 - val_loss: 0.1025 - val_accuracy: 0.9834\n",
            "Epoch 98/100\n",
            "469/469 [==============================] - 8s 17ms/step - loss: 0.0313 - accuracy: 0.9967 - val_loss: 0.1040 - val_accuracy: 0.9836\n",
            "Epoch 99/100\n",
            "469/469 [==============================] - 8s 17ms/step - loss: 0.0294 - accuracy: 0.9969 - val_loss: 0.1018 - val_accuracy: 0.9835\n",
            "Epoch 100/100\n",
            "469/469 [==============================] - 8s 17ms/step - loss: 0.0311 - accuracy: 0.9966 - val_loss: 0.0908 - val_accuracy: 0.9840\n"
          ]
        }
      ],
      "source": [
        "history = model.fit(X_train,y_train,\n",
        "          batch_size=128, epochs=100,\n",
        "          verbose=1, \n",
        "          validation_data= (X_test,y_test))"
      ]
    },
    {
      "cell_type": "code",
      "execution_count": null,
      "metadata": {
        "colab": {
          "base_uri": "https://localhost:8080/"
        },
        "id": "82rHdoe8WFlv",
        "outputId": "d91cf75c-7eac-4894-9226-54990e315ee0"
      },
      "outputs": [
        {
          "output_type": "execute_result",
          "data": {
            "text/plain": [
              "{'verbose': 1, 'epochs': 100, 'steps': 469}"
            ]
          },
          "metadata": {},
          "execution_count": 58
        }
      ],
      "source": [
        "history.params"
      ]
    },
    {
      "cell_type": "code",
      "execution_count": null,
      "metadata": {
        "colab": {
          "base_uri": "https://localhost:8080/"
        },
        "id": "oRCN6npLWlcO",
        "outputId": "24c941e0-a142-45d3-f2af-c28badb5babe"
      },
      "outputs": [
        {
          "output_type": "execute_result",
          "data": {
            "text/plain": [
              "{'loss': [0.5217394232749939,\n",
              "  0.2162095010280609,\n",
              "  0.1554950624704361,\n",
              "  0.13250628113746643,\n",
              "  0.1188737154006958,\n",
              "  0.11266366392374039,\n",
              "  0.11020161956548691,\n",
              "  0.10366760194301605,\n",
              "  0.09885232895612717,\n",
              "  0.09461409598588943,\n",
              "  0.09367647022008896,\n",
              "  0.08740268647670746,\n",
              "  0.08822134137153625,\n",
              "  0.08491744846105576,\n",
              "  0.081846222281456,\n",
              "  0.081151083111763,\n",
              "  0.07929401844739914,\n",
              "  0.07976175099611282,\n",
              "  0.07401113212108612,\n",
              "  0.07467968016862869,\n",
              "  0.07395285367965698,\n",
              "  0.07053003460168839,\n",
              "  0.06961014866828918,\n",
              "  0.0662689283490181,\n",
              "  0.06741223484277725,\n",
              "  0.06453926861286163,\n",
              "  0.0599372461438179,\n",
              "  0.06287897378206253,\n",
              "  0.060028813779354095,\n",
              "  0.061509184539318085,\n",
              "  0.06062058359384537,\n",
              "  0.05644349381327629,\n",
              "  0.055793069303035736,\n",
              "  0.05601527541875839,\n",
              "  0.05176519602537155,\n",
              "  0.05492524802684784,\n",
              "  0.05312511697411537,\n",
              "  0.047607481479644775,\n",
              "  0.052162718027830124,\n",
              "  0.05104523152112961,\n",
              "  0.052023641765117645,\n",
              "  0.04854774475097656,\n",
              "  0.04796140640974045,\n",
              "  0.048497870564460754,\n",
              "  0.04440926015377045,\n",
              "  0.04653219133615494,\n",
              "  0.045222241431474686,\n",
              "  0.04729431867599487,\n",
              "  0.04345308616757393,\n",
              "  0.04209675267338753,\n",
              "  0.04417819157242775,\n",
              "  0.04294528439640999,\n",
              "  0.042046140879392624,\n",
              "  0.04299633949995041,\n",
              "  0.04066680371761322,\n",
              "  0.04133455082774162,\n",
              "  0.03757850453257561,\n",
              "  0.040512215346097946,\n",
              "  0.040792305022478104,\n",
              "  0.03951624408364296,\n",
              "  0.03940120339393616,\n",
              "  0.037373434752225876,\n",
              "  0.03546886518597603,\n",
              "  0.03942115604877472,\n",
              "  0.03698670119047165,\n",
              "  0.03713124245405197,\n",
              "  0.03882422298192978,\n",
              "  0.038282617926597595,\n",
              "  0.03556302562355995,\n",
              "  0.03806127980351448,\n",
              "  0.03363795951008797,\n",
              "  0.03793821111321449,\n",
              "  0.0336667075753212,\n",
              "  0.0343487448990345,\n",
              "  0.03453855216503143,\n",
              "  0.03405866399407387,\n",
              "  0.0351334810256958,\n",
              "  0.035275280475616455,\n",
              "  0.032669056206941605,\n",
              "  0.03228406235575676,\n",
              "  0.03477262705564499,\n",
              "  0.03419148176908493,\n",
              "  0.03330058977007866,\n",
              "  0.03397582471370697,\n",
              "  0.03396669402718544,\n",
              "  0.03194825351238251,\n",
              "  0.030493270605802536,\n",
              "  0.03182602673768997,\n",
              "  0.03257831186056137,\n",
              "  0.03001442737877369,\n",
              "  0.0304137971252203,\n",
              "  0.030930908396840096,\n",
              "  0.03184894844889641,\n",
              "  0.0303674153983593,\n",
              "  0.03255946934223175,\n",
              "  0.032972946763038635,\n",
              "  0.028970548883080482,\n",
              "  0.03125935420393944,\n",
              "  0.0294489786028862,\n",
              "  0.031061571091413498],\n",
              " 'accuracy': [0.930899977684021,\n",
              "  0.9658499956130981,\n",
              "  0.9722833037376404,\n",
              "  0.9762166738510132,\n",
              "  0.979366660118103,\n",
              "  0.9811166524887085,\n",
              "  0.9825999736785889,\n",
              "  0.9835333228111267,\n",
              "  0.9843500256538391,\n",
              "  0.9850333333015442,\n",
              "  0.9855833053588867,\n",
              "  0.9873499870300293,\n",
              "  0.9871166944503784,\n",
              "  0.987766683101654,\n",
              "  0.9884999990463257,\n",
              "  0.9885333180427551,\n",
              "  0.9894166588783264,\n",
              "  0.9892500042915344,\n",
              "  0.9900333285331726,\n",
              "  0.9901000261306763,\n",
              "  0.9899500012397766,\n",
              "  0.9904999732971191,\n",
              "  0.9909666776657104,\n",
              "  0.991516649723053,\n",
              "  0.9914666414260864,\n",
              "  0.9917833209037781,\n",
              "  0.9930166602134705,\n",
              "  0.9917333126068115,\n",
              "  0.9930166602134705,\n",
              "  0.9917333126068115,\n",
              "  0.9926000237464905,\n",
              "  0.9932000041007996,\n",
              "  0.9930499792098999,\n",
              "  0.992816686630249,\n",
              "  0.9936166405677795,\n",
              "  0.9936000108718872,\n",
              "  0.9935666918754578,\n",
              "  0.9948333501815796,\n",
              "  0.993316650390625,\n",
              "  0.9939500093460083,\n",
              "  0.9935500025749207,\n",
              "  0.9942833185195923,\n",
              "  0.9941999912261963,\n",
              "  0.9942666888237,\n",
              "  0.9949833154678345,\n",
              "  0.9940666556358337,\n",
              "  0.9948333501815796,\n",
              "  0.9941333532333374,\n",
              "  0.9950666427612305,\n",
              "  0.9951000213623047,\n",
              "  0.9947666525840759,\n",
              "  0.9950000047683716,\n",
              "  0.9953833222389221,\n",
              "  0.9950666427612305,\n",
              "  0.9954000115394592,\n",
              "  0.9948833584785461,\n",
              "  0.9955833554267883,\n",
              "  0.9955166578292847,\n",
              "  0.9950833320617676,\n",
              "  0.9953166842460632,\n",
              "  0.995116651058197,\n",
              "  0.9962000250816345,\n",
              "  0.9960500001907349,\n",
              "  0.9950500130653381,\n",
              "  0.9960166811943054,\n",
              "  0.9957166910171509,\n",
              "  0.9955999851226807,\n",
              "  0.9955666661262512,\n",
              "  0.9962833523750305,\n",
              "  0.9955333471298218,\n",
              "  0.996649980545044,\n",
              "  0.9953333139419556,\n",
              "  0.9962666630744934,\n",
              "  0.9960166811943054,\n",
              "  0.9961666464805603,\n",
              "  0.99631667137146,\n",
              "  0.9962166547775269,\n",
              "  0.9958999752998352,\n",
              "  0.9962000250816345,\n",
              "  0.9966333508491516,\n",
              "  0.995983362197876,\n",
              "  0.9961333274841309,\n",
              "  0.9961666464805603,\n",
              "  0.996399998664856,\n",
              "  0.996066689491272,\n",
              "  0.9965000152587891,\n",
              "  0.996483325958252,\n",
              "  0.9966166615486145,\n",
              "  0.9965166449546814,\n",
              "  0.9968500137329102,\n",
              "  0.996749997138977,\n",
              "  0.996649980545044,\n",
              "  0.9965000152587891,\n",
              "  0.9970166683197021,\n",
              "  0.9960166811943054,\n",
              "  0.9965166449546814,\n",
              "  0.997083306312561,\n",
              "  0.9966999888420105,\n",
              "  0.9969000220298767,\n",
              "  0.9965500235557556],\n",
              " 'val_loss': [0.26254647970199585,\n",
              "  0.16565361618995667,\n",
              "  0.14931805431842804,\n",
              "  0.1336919516324997,\n",
              "  0.13372404873371124,\n",
              "  0.12747310101985931,\n",
              "  0.1309720277786255,\n",
              "  0.12547528743743896,\n",
              "  0.12243358045816422,\n",
              "  0.13638679683208466,\n",
              "  0.11843260377645493,\n",
              "  0.11802460998296738,\n",
              "  0.11677034944295883,\n",
              "  0.13061240315437317,\n",
              "  0.11792699247598648,\n",
              "  0.11857826262712479,\n",
              "  0.1280253678560257,\n",
              "  0.12642736732959747,\n",
              "  0.1296059638261795,\n",
              "  0.12270703166723251,\n",
              "  0.11769499629735947,\n",
              "  0.1159665435552597,\n",
              "  0.10961688309907913,\n",
              "  0.12309965491294861,\n",
              "  0.10474207997322083,\n",
              "  0.1102842316031456,\n",
              "  0.10689257830381393,\n",
              "  0.1107204332947731,\n",
              "  0.10724106431007385,\n",
              "  0.11089217662811279,\n",
              "  0.11887192726135254,\n",
              "  0.11808615922927856,\n",
              "  0.11871051043272018,\n",
              "  0.10336622595787048,\n",
              "  0.10922982543706894,\n",
              "  0.10259036719799042,\n",
              "  0.10744863003492355,\n",
              "  0.1085841953754425,\n",
              "  0.10730212181806564,\n",
              "  0.10185862332582474,\n",
              "  0.10184139758348465,\n",
              "  0.1068953275680542,\n",
              "  0.10501717776060104,\n",
              "  0.09764937311410904,\n",
              "  0.10482639074325562,\n",
              "  0.10614308714866638,\n",
              "  0.10723986476659775,\n",
              "  0.10932215303182602,\n",
              "  0.10691500455141068,\n",
              "  0.10278194397687912,\n",
              "  0.10116980969905853,\n",
              "  0.10952257364988327,\n",
              "  0.10148320347070694,\n",
              "  0.10463842749595642,\n",
              "  0.09922022372484207,\n",
              "  0.09944100677967072,\n",
              "  0.11159926652908325,\n",
              "  0.106150783598423,\n",
              "  0.10780814290046692,\n",
              "  0.10123874247074127,\n",
              "  0.11162670701742172,\n",
              "  0.09188348054885864,\n",
              "  0.10461356490850449,\n",
              "  0.10110215097665787,\n",
              "  0.10469388216733932,\n",
              "  0.11332767456769943,\n",
              "  0.09945643693208694,\n",
              "  0.10926931351423264,\n",
              "  0.10748875886201859,\n",
              "  0.10495463013648987,\n",
              "  0.1081707552075386,\n",
              "  0.10611441731452942,\n",
              "  0.10385512560606003,\n",
              "  0.10029982030391693,\n",
              "  0.11073251813650131,\n",
              "  0.10116048157215118,\n",
              "  0.10716546326875687,\n",
              "  0.10020534694194794,\n",
              "  0.10615195333957672,\n",
              "  0.10186943411827087,\n",
              "  0.10813115537166595,\n",
              "  0.1044047400355339,\n",
              "  0.11236201226711273,\n",
              "  0.10087549686431885,\n",
              "  0.09927143156528473,\n",
              "  0.10022136569023132,\n",
              "  0.11429320275783539,\n",
              "  0.10066990554332733,\n",
              "  0.10055407136678696,\n",
              "  0.10334178805351257,\n",
              "  0.11660875380039215,\n",
              "  0.10559216141700745,\n",
              "  0.10564114898443222,\n",
              "  0.1065421849489212,\n",
              "  0.11360602080821991,\n",
              "  0.10190511494874954,\n",
              "  0.10245366394519806,\n",
              "  0.10395520180463791,\n",
              "  0.10177610069513321,\n",
              "  0.09082208573818207],\n",
              " 'val_accuracy': [0.9667999744415283,\n",
              "  0.9722999930381775,\n",
              "  0.9717000126838684,\n",
              "  0.9763000011444092,\n",
              "  0.9757999777793884,\n",
              "  0.9767000079154968,\n",
              "  0.9768999814987183,\n",
              "  0.9790999889373779,\n",
              "  0.9790999889373779,\n",
              "  0.9750000238418579,\n",
              "  0.9812999963760376,\n",
              "  0.9783999919891357,\n",
              "  0.9818000197410583,\n",
              "  0.9810000061988831,\n",
              "  0.9815999865531921,\n",
              "  0.9804999828338623,\n",
              "  0.9776999950408936,\n",
              "  0.9789999723434448,\n",
              "  0.9800000190734863,\n",
              "  0.9818000197410583,\n",
              "  0.9803000092506409,\n",
              "  0.9833999872207642,\n",
              "  0.9832000136375427,\n",
              "  0.9803000092506409,\n",
              "  0.9836999773979187,\n",
              "  0.9810000061988831,\n",
              "  0.982200026512146,\n",
              "  0.9817000031471252,\n",
              "  0.9815999865531921,\n",
              "  0.9812999963760376,\n",
              "  0.9799000024795532,\n",
              "  0.9797999858856201,\n",
              "  0.9811999797821045,\n",
              "  0.982200026512146,\n",
              "  0.9817000031471252,\n",
              "  0.9821000099182129,\n",
              "  0.9812999963760376,\n",
              "  0.9821000099182129,\n",
              "  0.9814000129699707,\n",
              "  0.9830999970436096,\n",
              "  0.9839000105857849,\n",
              "  0.982200026512146,\n",
              "  0.9828000068664551,\n",
              "  0.9840999841690063,\n",
              "  0.9833999872207642,\n",
              "  0.982699990272522,\n",
              "  0.9811000227928162,\n",
              "  0.9821000099182129,\n",
              "  0.9815000295639038,\n",
              "  0.9815999865531921,\n",
              "  0.9829999804496765,\n",
              "  0.9832000136375427,\n",
              "  0.982200026512146,\n",
              "  0.982699990272522,\n",
              "  0.9828000068664551,\n",
              "  0.9833999872207642,\n",
              "  0.983299970626831,\n",
              "  0.9815999865531921,\n",
              "  0.9832000136375427,\n",
              "  0.9830999970436096,\n",
              "  0.9829000234603882,\n",
              "  0.9846000075340271,\n",
              "  0.9830999970436096,\n",
              "  0.9830999970436096,\n",
              "  0.9829999804496765,\n",
              "  0.9811999797821045,\n",
              "  0.9854000210762024,\n",
              "  0.982699990272522,\n",
              "  0.9815000295639038,\n",
              "  0.9835000038146973,\n",
              "  0.9825000166893005,\n",
              "  0.984000027179718,\n",
              "  0.983299970626831,\n",
              "  0.9836000204086304,\n",
              "  0.982200026512146,\n",
              "  0.9843000173568726,\n",
              "  0.9847999811172485,\n",
              "  0.9829999804496765,\n",
              "  0.9828000068664551,\n",
              "  0.9828000068664551,\n",
              "  0.984000027179718,\n",
              "  0.9836000204086304,\n",
              "  0.9832000136375427,\n",
              "  0.9839000105857849,\n",
              "  0.9843000173568726,\n",
              "  0.9818999767303467,\n",
              "  0.9815999865531921,\n",
              "  0.9836999773979187,\n",
              "  0.983299970626831,\n",
              "  0.9840999841690063,\n",
              "  0.9825999736785889,\n",
              "  0.9832000136375427,\n",
              "  0.9837999939918518,\n",
              "  0.9825999736785889,\n",
              "  0.9836000204086304,\n",
              "  0.9850000143051147,\n",
              "  0.9833999872207642,\n",
              "  0.9836000204086304,\n",
              "  0.9835000038146973,\n",
              "  0.984000027179718]}"
            ]
          },
          "metadata": {},
          "execution_count": 59
        }
      ],
      "source": [
        "history.history"
      ]
    },
    {
      "cell_type": "code",
      "execution_count": null,
      "metadata": {
        "colab": {
          "base_uri": "https://localhost:8080/",
          "height": 428
        },
        "id": "Mu9BwoeEWtXi",
        "outputId": "f4c316e6-1050-4dac-cec7-16bc115e4f6e"
      },
      "outputs": [
        {
          "output_type": "display_data",
          "data": {
            "text/plain": [
              "<Figure size 504x504 with 1 Axes>"
            ],
            "image/png": "[encoded data removed]"
          },
          "metadata": {
            "needs_background": "light"
          }
        }
      ],
      "source": [
        "plt.figure()\n",
        "plt.plot(history.history['loss'],label='train')\n",
        "plt.plot(history.history['val_loss'],label='Val')\n",
        "plt.legend()\n",
        "plt.grid()"
      ]
    },
    {
      "cell_type": "code",
      "execution_count": null,
      "metadata": {
        "colab": {
          "base_uri": "https://localhost:8080/",
          "height": 430
        },
        "id": "cEkT9VQKXWDK",
        "outputId": "31f806d8-3a90-4bd4-f8bb-353ed25d629b"
      },
      "outputs": [
        {
          "output_type": "display_data",
          "data": {
            "text/plain": [
              "<Figure size 504x504 with 1 Axes>"
            ],
            "image/png": "[encoded data removed]"
          },
          "metadata": {
            "needs_background": "light"
          }
        }
      ],
      "source": [
        "plt.figure()\n",
        "plt.plot(history.history['accuracy'],label='Train')\n",
        "plt.plot(history.history['val_accuracy'],label='Val')\n",
        "plt.legend()\n",
        "plt.grid()"
      ]
    },
    {
      "cell_type": "markdown",
      "metadata": {
        "id": "BhLH9QfKrmQK"
      },
      "source": [
        "## 5. Evaluating Model"
      ]
    },
    {
      "cell_type": "code",
      "execution_count": null,
      "metadata": {
        "id": "RvUjxav1Xnf3",
        "colab": {
          "base_uri": "https://localhost:8080/"
        },
        "outputId": "3ebe3b48-292c-4174-cc98-9324bdf2b466"
      },
      "outputs": [
        {
          "output_type": "stream",
          "name": "stdout",
          "text": [
            "313/313 [==============================] - 1s 4ms/step - loss: 0.0908 - accuracy: 0.9840\n",
            "Test accuracy: [0.09082210063934326, 0.984000027179718]\n"
          ]
        }
      ],
      "source": [
        "score = model.evaluate(X_test,y_test,verbose=1)\n",
        "print('Test accuracy:',score)"
      ]
    },
    {
      "cell_type": "markdown",
      "metadata": {
        "id": "ujhdPY-8rmFV"
      },
      "source": [
        "## 6. Model Saving"
      ]
    },
    {
      "cell_type": "code",
      "execution_count": null,
      "metadata": {
        "colab": {
          "base_uri": "https://localhost:8080/",
          "height": 183
        },
        "id": "luLtA2vLY6Rc",
        "outputId": "3b92b765-a501-4b1e-bb2d-143c189f36bf"
      },
      "outputs": [
        {
          "output_type": "error",
          "ename": "AttributeError",
          "evalue": "ignored",
          "traceback": [
            "\u001b[0;31m---------------------------------------------------------------------------\u001b[0m",
            "\u001b[0;31mAttributeError\u001b[0m                            Traceback (most recent call last)",
            "\u001b[0;32m<ipython-input-63-0e953a557831>\u001b[0m in \u001b[0;36m<module>\u001b[0;34m\u001b[0m\n\u001b[1;32m      1\u001b[0m \u001b[0mmodel\u001b[0m\u001b[0;34m.\u001b[0m\u001b[0msave\u001b[0m\u001b[0;34m(\u001b[0m\u001b[0;34m'mo_model.h5'\u001b[0m\u001b[0;34m)\u001b[0m\u001b[0;34m\u001b[0m\u001b[0;34m\u001b[0m\u001b[0m\n\u001b[0;32m----> 2\u001b[0;31m \u001b[0mmodel\u001b[0m\u001b[0;34m.\u001b[0m\u001b[0mtf\u001b[0m\u001b[0;34m.\u001b[0m\u001b[0mkeras\u001b[0m\u001b[0;34m.\u001b[0m\u001b[0mmodels\u001b[0m\u001b[0;34m.\u001b[0m\u001b[0mload_model\u001b[0m\u001b[0;34m(\u001b[0m\u001b[0;34m'my_model.h5'\u001b[0m\u001b[0;34m)\u001b[0m\u001b[0;34m\u001b[0m\u001b[0;34m\u001b[0m\u001b[0m\n\u001b[0m",
            "\u001b[0;31mAttributeError\u001b[0m: 'Sequential' object has no attribute 'tf'"
          ]
        }
      ],
      "source": [
        "model.save('mo_model.h5')\n",
        "model.tf.keras.models.load_model('my_model.h5')"
      ]
    },
    {
      "cell_type": "markdown",
      "metadata": {
        "id": "WP5bVN2FYkej"
      },
      "source": [
        "###Tensorflowboard"
      ]
    }
  ],
  "metadata": {
    "colab": {
      "name": "1_CV_NN_Image_Classification.ipynb",
      "provenance": [],
      "authorship_tag": "ABX9TyOCoC7aOmHiqu/B0nFxpsEH",
      "include_colab_link": true
    },
    "kernelspec": {
      "display_name": "Python 3",
      "name": "python3"
    },
    "language_info": {
      "name": "python"
    }
  },
  "nbformat": 4,
  "nbformat_minor": 0
}